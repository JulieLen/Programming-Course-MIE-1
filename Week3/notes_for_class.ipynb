{
 "cells": [
  {
   "cell_type": "markdown",
   "metadata": {},
   "source": [
    "Say hello!\n",
    "\n",
    "Ask about the homework? Has anyone worked on it? If so, how is it going? We'll look at my solution next time.\n",
    "\n",
    "Introduce today's class: Monte carlo integration as a way to introduce functions."
   ]
  },
  {
   "cell_type": "code",
   "execution_count": 2,
   "metadata": {
    "collapsed": false
   },
   "outputs": [
    {
     "data": {
      "text/html": [
       "2"
      ],
      "text/latex": [
       "2"
      ],
      "text/markdown": [
       "2"
      ],
      "text/plain": [
       "[1] 2"
      ]
     },
     "metadata": {},
     "output_type": "display_data"
    }
   ],
   "source": [
    "# What's a function? You've seen it before\n",
    "1 + 1"
   ]
  },
  {
   "cell_type": "code",
   "execution_count": 4,
   "metadata": {
    "collapsed": false
   },
   "outputs": [
    {
     "data": {
      "text/html": [
       "'double'"
      ],
      "text/latex": [
       "'double'"
      ],
      "text/markdown": [
       "'double'"
      ],
      "text/plain": [
       "[1] \"double\""
      ]
     },
     "metadata": {},
     "output_type": "display_data"
    }
   ],
   "source": [
    "# Or more abstract functions\n",
    "typeof(1)"
   ]
  },
  {
   "cell_type": "code",
   "execution_count": 5,
   "metadata": {
    "collapsed": true
   },
   "outputs": [],
   "source": [
    "# We can define our own functions in R\n",
    "add <- function(a, b){\n",
    "    return(a + b)\n",
    "}"
   ]
  },
  {
   "cell_type": "code",
   "execution_count": 6,
   "metadata": {
    "collapsed": false
   },
   "outputs": [
    {
     "data": {
      "text/html": [
       "2"
      ],
      "text/latex": [
       "2"
      ],
      "text/markdown": [
       "2"
      ],
      "text/plain": [
       "[1] 2"
      ]
     },
     "metadata": {},
     "output_type": "display_data"
    }
   ],
   "source": [
    "add(1, 1)"
   ]
  },
  {
   "cell_type": "code",
   "execution_count": 8,
   "metadata": {
    "collapsed": false
   },
   "outputs": [
    {
     "data": {
      "text/html": [
       "<pre class=language-r><code>function (a, b) \n",
       "{\n",
       "    return(a + b)\n",
       "}</code></pre>"
      ],
      "text/latex": [
       "\\begin{minted}{r}\n",
       "function (a, b) \n",
       "\\{\n",
       "    return(a + b)\n",
       "\\}\n",
       "\\end{minted}"
      ],
      "text/markdown": [
       "```r\n",
       "function (a, b) \n",
       "{\n",
       "    return(a + b)\n",
       "}\n",
       "```"
      ],
      "text/plain": [
       "function(a, b){\n",
       "    return(a + b)\n",
       "}"
      ]
     },
     "metadata": {},
     "output_type": "display_data"
    }
   ],
   "source": [
    "# You can see the code of a function by using the following\n",
    "add"
   ]
  },
  {
   "cell_type": "code",
   "execution_count": 10,
   "metadata": {
    "collapsed": false
   },
   "outputs": [
    {
     "data": {
      "text/html": [
       "1"
      ],
      "text/latex": [
       "1"
      ],
      "text/markdown": [
       "1"
      ],
      "text/plain": [
       "[1] 1"
      ]
     },
     "metadata": {},
     "output_type": "display_data"
    }
   ],
   "source": [
    "###########################3\n",
    "# Documentation\n",
    "\n",
    "# I've talked before about documentation, but let's be more\n",
    "# rigorous\n",
    "\n",
    "# why? Let's say we define the following function\n",
    "whereis <- function(pattern, word){\n",
    "    return(grep(pattern, word))\n",
    "}\n",
    "whereis('I', 'Im lost')"
   ]
  },
  {
   "cell_type": "code",
   "execution_count": 11,
   "metadata": {
    "collapsed": false
   },
   "outputs": [
    {
     "data": {
      "text/html": [
       "No documentation for ‘whereis’ in specified packages and libraries:\n",
       "you could try ‘??whereis’"
      ],
      "text/latex": [
       "No documentation for ‘whereis’ in specified packages and libraries:\n",
       "you could try ‘??whereis’"
      ],
      "text/plain": [
       "No documentation for ‘whereis’ in specified packages and libraries:\n",
       "you could try ‘??whereis’"
      ]
     },
     "metadata": {},
     "output_type": "display_data"
    }
   ],
   "source": [
    "# First of all, what do you think whereis is doing?\n",
    "\n",
    "# Can we find help documentation on this function?\n",
    "?whereis"
   ]
  },
  {
   "cell_type": "code",
   "execution_count": 13,
   "metadata": {
    "collapsed": false
   },
   "outputs": [
    {
     "data": {
      "text/html": [
       "\n",
       "<table width=\"100%\" summary=\"page for grep {base}\"><tr><td>grep {base}</td><td style=\"text-align: right;\">R Documentation</td></tr></table>\n",
       "\n",
       "<h2>Pattern Matching and Replacement</h2>\n",
       "\n",
       "<h3>Description</h3>\n",
       "\n",
       "<p><code>grep</code>, <code>grepl</code>, <code>regexpr</code>, <code>gregexpr</code> and\n",
       "<code>regexec</code> search for matches to argument <code>pattern</code> within\n",
       "each element of a character vector: they differ in the format of and\n",
       "amount of detail in the results.\n",
       "</p>\n",
       "<p><code>sub</code> and <code>gsub</code> perform replacement of the first and all\n",
       "matches respectively.\n",
       "</p>\n",
       "\n",
       "\n",
       "<h3>Usage</h3>\n",
       "\n",
       "<pre>\n",
       "grep(pattern, x, ignore.case = FALSE, perl = FALSE, value = FALSE,\n",
       "     fixed = FALSE, useBytes = FALSE, invert = FALSE)\n",
       "\n",
       "grepl(pattern, x, ignore.case = FALSE, perl = FALSE,\n",
       "      fixed = FALSE, useBytes = FALSE)\n",
       "\n",
       "sub(pattern, replacement, x, ignore.case = FALSE, perl = FALSE,\n",
       "    fixed = FALSE, useBytes = FALSE)\n",
       "\n",
       "gsub(pattern, replacement, x, ignore.case = FALSE, perl = FALSE,\n",
       "     fixed = FALSE, useBytes = FALSE)\n",
       "\n",
       "regexpr(pattern, text, ignore.case = FALSE, perl = FALSE,\n",
       "        fixed = FALSE, useBytes = FALSE)\n",
       "\n",
       "gregexpr(pattern, text, ignore.case = FALSE, perl = FALSE,\n",
       "         fixed = FALSE, useBytes = FALSE)\n",
       "\n",
       "regexec(pattern, text, ignore.case = FALSE, perl = FALSE,\n",
       "        fixed = FALSE, useBytes = FALSE)\n",
       "</pre>\n",
       "\n",
       "\n",
       "<h3>Arguments</h3>\n",
       "\n",
       "<table summary=\"R argblock\">\n",
       "<tr valign=\"top\"><td><code>pattern</code></td>\n",
       "<td>\n",
       "<p>character string containing a regular expression\n",
       "(or character string for <code>fixed = TRUE</code>) to be matched\n",
       "in the given character vector.  Coerced by\n",
       "<code>as.character</code> to a character string if possible.  If a\n",
       "character vector of length 2 or more is supplied, the first element\n",
       "is used with a warning.  Missing values are allowed except for\n",
       "<code>regexpr</code> and <code>gregexpr</code>.</p>\n",
       "</td></tr>\n",
       "<tr valign=\"top\"><td><code>x, text</code></td>\n",
       "<td>\n",
       "<p>a character vector where matches are sought, or an\n",
       "object which can be coerced by <code>as.character</code> to a character\n",
       "vector.  Long vectors are supported.</p>\n",
       "</td></tr>\n",
       "<tr valign=\"top\"><td><code>ignore.case</code></td>\n",
       "<td>\n",
       "<p>if <code>FALSE</code>, the pattern matching is <em>case\n",
       "sensitive</em> and if <code>TRUE</code>, case is ignored during matching.</p>\n",
       "</td></tr>\n",
       "<tr valign=\"top\"><td><code>perl</code></td>\n",
       "<td>\n",
       "<p>logical.  Should Perl-compatible regexps be used?</p>\n",
       "</td></tr>\n",
       "<tr valign=\"top\"><td><code>value</code></td>\n",
       "<td>\n",
       "<p>if <code>FALSE</code>, a vector containing the (<code>integer</code>)\n",
       "indices of the matches determined by <code>grep</code> is returned, and if\n",
       "<code>TRUE</code>, a vector containing the matching elements themselves is\n",
       "returned.</p>\n",
       "</td></tr>\n",
       "<tr valign=\"top\"><td><code>fixed</code></td>\n",
       "<td>\n",
       "<p>logical.  If <code>TRUE</code>, <code>pattern</code> is a string to be\n",
       "matched as is.  Overrides all conflicting arguments.</p>\n",
       "</td></tr>\n",
       "<tr valign=\"top\"><td><code>useBytes</code></td>\n",
       "<td>\n",
       "<p>logical.  If <code>TRUE</code> the matching is done\n",
       "byte-by-byte rather than character-by-character.  See\n",
       "&lsquo;Details&rsquo;.</p>\n",
       "</td></tr>\n",
       "<tr valign=\"top\"><td><code>invert</code></td>\n",
       "<td>\n",
       "<p>logical.  If <code>TRUE</code> return indices or values for\n",
       "elements that do <em>not</em> match.</p>\n",
       "</td></tr>\n",
       "<tr valign=\"top\"><td><code>replacement</code></td>\n",
       "<td>\n",
       "<p>a replacement for matched pattern in <code>sub</code> and\n",
       "<code>gsub</code>.  Coerced to character if possible.  For <code>fixed =\n",
       "      FALSE</code> this can include backreferences <code>\"\\1\"</code> to\n",
       "<code>\"\\9\"</code> to parenthesized subexpressions of <code>pattern</code>.  For\n",
       "<code>perl = TRUE</code> only, it can also contain <code>\"\\U\"</code> or\n",
       "<code>\"\\L\"</code> to convert the rest of the replacement to upper or\n",
       "lower case and <code>\"\\E\"</code> to end case conversion.  If a\n",
       "character vector of length 2 or more is supplied, the first element\n",
       "is used with a warning.  If <code>NA</code>, all elements in the result\n",
       "corresponding to matches will be set to <code>NA</code>.\n",
       "</p>\n",
       "</td></tr>\n",
       "</table>\n",
       "\n",
       "\n",
       "<h3>Details</h3>\n",
       "\n",
       "<p>Arguments which should be character strings or character vectors are\n",
       "coerced to character if possible.\n",
       "</p>\n",
       "<p>Each of these functions (apart from <code>regexec</code>, which currently\n",
       "does not support Perl-style regular expressions) operates in one of\n",
       "three modes:\n",
       "</p>\n",
       "\n",
       "<ol>\n",
       "<li> <p><code>fixed = TRUE</code>: use exact matching.\n",
       "</p>\n",
       "</li>\n",
       "<li> <p><code>perl = TRUE</code>: use Perl-style regular expressions.\n",
       "</p>\n",
       "</li>\n",
       "<li> <p><code>fixed = FALSE, perl = FALSE</code>: use POSIX 1003.2\n",
       "extended regular expressions.\n",
       "</p>\n",
       "</li></ol>\n",
       "\n",
       "<p>See the help pages on regular expression for details of the\n",
       "different types of regular expressions.\n",
       "</p>\n",
       "<p>The two <code>*sub</code> functions differ only in that <code>sub</code> replaces\n",
       "only the first occurrence of a <code>pattern</code> whereas <code>gsub</code>\n",
       "replaces all occurrences.  If <code>replacement</code> contains\n",
       "backreferences which are not defined in <code>pattern</code> the result is\n",
       "undefined (but most often the backreference is taken to be <code>\"\"</code>).\n",
       "</p>\n",
       "<p>For <code>regexpr</code>, <code>gregexpr</code> and <code>regexec</code> it is an error\n",
       "for <code>pattern</code> to be <code>NA</code>, otherwise <code>NA</code> is permitted\n",
       "and gives an <code>NA</code> match.\n",
       "</p>\n",
       "<p>The main effect of <code>useBytes</code> is to avoid errors/warnings about\n",
       "invalid inputs and spurious matches in multibyte locales, but for\n",
       "<code>regexpr</code> it changes the interpretation of the output.\n",
       "It inhibits the conversion of inputs with marked encodings, and is\n",
       "forced if any input is found which is marked as <code>\"bytes\"</code>\n",
       "see <code>Encoding</code>).\n",
       "</p>\n",
       "<p>Caseless matching does not make much sense for bytes in a multibyte\n",
       "locale, and you should expect it only to work for ASCII characters if\n",
       "<code>useBytes = TRUE</code>.\n",
       "</p>\n",
       "<p><code>regexpr</code> and <code>gregexpr</code> with <code>perl = TRUE</code> allow\n",
       "Python-style named captures, but not for <em>long vector</em> inputs.\n",
       "</p>\n",
       "<p>Invalid inputs in the current locale are warned about up to 5 times.\n",
       "</p>\n",
       "<p>Caseless matching with <code>PERL = TRUE</code> for non-ASCII characters\n",
       "depends on the PCRE library being compiled with &lsquo;Unicode\n",
       "property support&rsquo;: an external library might not be.\n",
       "</p>\n",
       "\n",
       "\n",
       "<h3>Value</h3>\n",
       "\n",
       "<p><code>grep(value = FALSE)</code> returns a vector of the indices\n",
       "of the elements of <code>x</code> that yielded a match (or not, for\n",
       "<code>invert = TRUE</code>.  This will be an integer vector unless the input\n",
       "is a <em>long vector</em>, when it will be a double vector.\n",
       "</p>\n",
       "<p><code>grep(value = TRUE)</code> returns a character vector containing the\n",
       "selected elements of <code>x</code> (after coercion, preserving names but no\n",
       "other attributes).\n",
       "</p>\n",
       "<p><code>grepl</code> returns a logical vector (match or not for each element of\n",
       "<code>x</code>).\n",
       "</p>\n",
       "<p>For <code>sub</code> and <code>gsub</code> return a character vector of the same\n",
       "length and with the same attributes as <code>x</code> (after possible\n",
       "coercion to character).  Elements of character vectors <code>x</code> which\n",
       "are not substituted will be returned unchanged (including any declared\n",
       "encoding).  If <code>useBytes = FALSE</code> a non-ASCII substituted result\n",
       "will often be in UTF-8 with a marked encoding (e.g., if there is a\n",
       "UTF-8 input, and in a multibyte locale unless <code>fixed = TRUE</code>).\n",
       "Such strings can be re-encoded by <code>enc2native</code>.\n",
       "</p>\n",
       "<p><code>regexpr</code> returns an integer vector of the same length as\n",
       "<code>text</code> giving the starting position of the first match or\n",
       "<i>-1</i> if there is none, with attribute <code>\"match.length\"</code>, an\n",
       "integer vector giving the length of the matched text (or <i>-1</i> for\n",
       "no match).  The match positions and lengths are in characters unless\n",
       "<code>useBytes = TRUE</code> is used, when they are in bytes.  If named\n",
       "capture is used there are further attributes <code>\"capture.start\"</code>,\n",
       "<code>\"capture.length\"</code> and <code>\"capture.names\"</code>.\n",
       "</p>\n",
       "<p><code>gregexpr</code> returns a list of the same length as <code>text</code> each\n",
       "element of which is of the same form as the return value for\n",
       "<code>regexpr</code>, except that the starting positions of every (disjoint)\n",
       "match are given.\n",
       "</p>\n",
       "<p><code>regexec</code> returns a list of the same length as <code>text</code> each\n",
       "element of which is either <i>-1</i> if there is no match, or a\n",
       "sequence of integers with the starting positions of the match and all\n",
       "substrings corresponding to parenthesized subexpressions of\n",
       "<code>pattern</code>, with attribute <code>\"match.length\"</code> a vector\n",
       "giving the lengths of the matches (or <i>-1</i> for no match).\n",
       "</p>\n",
       "\n",
       "\n",
       "<h3>Warning</h3>\n",
       "\n",
       "<p>POSIX 1003.2 mode of <code>gsub</code> and <code>gregexpr</code> does not\n",
       "work correctly with repeated word-boundaries (e.g., <code>pattern =\n",
       "  \"\\b\"</code>).  Use <code>perl = TRUE</code> for such matches (but that may not\n",
       "work as expected with non-ASCII inputs, as the meaning of\n",
       "&lsquo;word&rsquo; is system-dependent).\n",
       "</p>\n",
       "\n",
       "\n",
       "<h3>Performance considerations</h3>\n",
       "\n",
       "<p>If you are doing a lot of regular expression matching, including on\n",
       "very long strings, you will want to consider the options used.\n",
       "Generally PCRE will be faster than the default regular expression\n",
       "engine, and <code>fixed = TRUE</code> faster still (especially when each\n",
       "pattern is matched only a few times).\n",
       "</p>\n",
       "<p>If you are working in a single-byte locale and have marked UTF-8\n",
       "strings that are representable in that locale, convert them first as\n",
       "just one UTF-8 string will force all the matching to be done in\n",
       "Unicode, which attracts a penalty of around <i>3x</i> for\n",
       "the default POSIX 1003.2 mode.\n",
       "</p>\n",
       "<p>If you can make use of <code>useBytes = TRUE</code>, the strings will not be\n",
       "checked before matching, and the actual matching will be faster.\n",
       "Often byte-based matching suffices in a UTF-8 locale since byte\n",
       "patterns of one character never match part of another.\n",
       "</p>\n",
       "\n",
       "\n",
       "<h3>Source</h3>\n",
       "\n",
       "<p>The C code for POSIX-style regular expression matching has changed\n",
       "over the years.  As from <span style=\"font-family: Courier New, Courier; color: #666666;\"><b>R</b></span> 2.10.0 the TRE library of Ville Laurikari\n",
       "(<a href=\"http://laurikari.net/tre/\">http://laurikari.net/tre/</a>) is used.  The POSIX standard does\n",
       "give some room for interpretation, especially in the handling of\n",
       "invalid regular expressions and the collation of character ranges, so\n",
       "the results will have changed slightly over the years.\n",
       "</p>\n",
       "<p>For Perl-style matching PCRE (<a href=\"http://www.pcre.org\">http://www.pcre.org</a>) is used.\n",
       "</p>\n",
       "\n",
       "\n",
       "<h3>References</h3>\n",
       "\n",
       "<p>Becker, R. A., Chambers, J. M. and Wilks, A. R. (1988)\n",
       "<em>The New S Language</em>.\n",
       "Wadsworth &amp; Brooks/Cole (<code>grep</code>)\n",
       "</p>\n",
       "\n",
       "\n",
       "<h3>See Also</h3>\n",
       "\n",
       "<p>regular expression (aka <code>regexp</code>) for the details\n",
       "of the pattern specification.\n",
       "</p>\n",
       "<p><code>regmatches</code> for extracting matched substrings based on\n",
       "the results of <code>regexpr</code>, <code>gregexpr</code> and <code>regexec</code>.\n",
       "</p>\n",
       "<p><code>glob2rx</code> to turn wildcard matches into regular expressions.\n",
       "</p>\n",
       "<p><code>agrep</code> for approximate matching.\n",
       "</p>\n",
       "<p><code>charmatch</code>, <code>pmatch</code> for partial matching,\n",
       "<code>match</code> for matching to whole strings,\n",
       "<code>startsWith</code> for matching of initial parts of strings.\n",
       "</p>\n",
       "<p><code>tolower</code>, <code>toupper</code> and <code>chartr</code>\n",
       "for character translations.\n",
       "</p>\n",
       "<p><code>apropos</code> uses regexps and has more examples.\n",
       "</p>\n",
       "<p><code>grepRaw</code> for matching raw vectors.\n",
       "</p>\n",
       "\n",
       "\n",
       "<h3>Examples</h3>\n",
       "\n",
       "<pre>\n",
       "grep(\"[a-z]\", letters)\n",
       "\n",
       "txt &lt;- c(\"arm\",\"foot\",\"lefroo\", \"bafoobar\")\n",
       "if(length(i &lt;- grep(\"foo\", txt)))\n",
       "   cat(\"'foo' appears at least once in\\n\\t\", txt, \"\\n\")\n",
       "i # 2 and 4\n",
       "txt[i]\n",
       "\n",
       "## Double all 'a' or 'b's;  \"\\\" must be escaped, i.e., 'doubled'\n",
       "gsub(\"([ab])\", \"\\\\1_\\\\1_\", \"abc and ABC\")\n",
       "\n",
       "txt &lt;- c(\"The\", \"licenses\", \"for\", \"most\", \"software\", \"are\",\n",
       "  \"designed\", \"to\", \"take\", \"away\", \"your\", \"freedom\",\n",
       "  \"to\", \"share\", \"and\", \"change\", \"it.\",\n",
       "   \"\", \"By\", \"contrast,\", \"the\", \"GNU\", \"General\", \"Public\", \"License\",\n",
       "   \"is\", \"intended\", \"to\", \"guarantee\", \"your\", \"freedom\", \"to\",\n",
       "   \"share\", \"and\", \"change\", \"free\", \"software\", \"--\",\n",
       "   \"to\", \"make\", \"sure\", \"the\", \"software\", \"is\",\n",
       "   \"free\", \"for\", \"all\", \"its\", \"users\")\n",
       "( i &lt;- grep(\"[gu]\", txt) ) # indices\n",
       "stopifnot( txt[i] == grep(\"[gu]\", txt, value = TRUE) )\n",
       "\n",
       "## Note that in locales such as en_US this includes B as the\n",
       "## collation order is aAbBcCdEe ...\n",
       "(ot &lt;- sub(\"[b-e]\",\".\", txt))\n",
       "txt[ot != gsub(\"[b-e]\",\".\", txt)]#- gsub does \"global\" substitution\n",
       "\n",
       "txt[gsub(\"g\",\"#\", txt) !=\n",
       "    gsub(\"g\",\"#\", txt, ignore.case = TRUE)] # the \"G\" words\n",
       "\n",
       "regexpr(\"en\", txt)\n",
       "\n",
       "gregexpr(\"e\", txt)\n",
       "\n",
       "## Using grepl() for filtering\n",
       "## Find functions with argument names matching \"warn\":\n",
       "findArgs &lt;- function(env, pattern) {\n",
       "  nms &lt;- ls(envir = as.environment(env))\n",
       "  nms &lt;- nms[is.na(match(nms, c(\"F\",\"T\")))] # &lt;-- work around \"checking hack\"\n",
       "  aa &lt;- sapply(nms, function(.) { o &lt;- get(.)\n",
       "               if(is.function(o)) names(formals(o)) })\n",
       "  iw &lt;- sapply(aa, function(a) any(grepl(pattern, a, ignore.case=TRUE)))\n",
       "  aa[iw]\n",
       "}\n",
       "findArgs(\"package:base\", \"warn\")\n",
       "\n",
       "## trim trailing white space\n",
       "str &lt;- \"Now is the time      \"\n",
       "sub(\" +$\", \"\", str)  ## spaces only\n",
       "## what is considered 'white space' depends on the locale.\n",
       "sub(\"[[:space:]]+$\", \"\", str) ## white space, POSIX-style\n",
       "## what PCRE considered white space changed in version 8.34: see ?regex\n",
       "sub(\"\\\\s+$\", \"\", str, perl = TRUE) ## PCRE-style white space\n",
       "\n",
       "## capitalizing\n",
       "txt &lt;- \"a test of capitalizing\"\n",
       "gsub(\"(\\\\w)(\\\\w*)\", \"\\\\U\\\\1\\\\L\\\\2\", txt, perl=TRUE)\n",
       "gsub(\"\\\\b(\\\\w)\",    \"\\\\U\\\\1\",       txt, perl=TRUE)\n",
       "\n",
       "txt2 &lt;- \"useRs may fly into JFK or laGuardia\"\n",
       "gsub(\"(\\\\w)(\\\\w*)(\\\\w)\", \"\\\\U\\\\1\\\\E\\\\2\\\\U\\\\3\", txt2, perl=TRUE)\n",
       " sub(\"(\\\\w)(\\\\w*)(\\\\w)\", \"\\\\U\\\\1\\\\E\\\\2\\\\U\\\\3\", txt2, perl=TRUE)\n",
       "\n",
       "## named capture\n",
       "notables &lt;- c(\"  Ben Franklin and Jefferson Davis\",\n",
       "              \"\\tMillard Fillmore\")\n",
       "# name groups 'first' and 'last'\n",
       "name.rex &lt;- \"(?&lt;first&gt;[[:upper:]][[:lower:]]+) (?&lt;last&gt;[[:upper:]][[:lower:]]+)\"\n",
       "(parsed &lt;- regexpr(name.rex, notables, perl = TRUE))\n",
       "gregexpr(name.rex, notables, perl = TRUE)[[2]]\n",
       "parse.one &lt;- function(res, result) {\n",
       "  m &lt;- do.call(rbind, lapply(seq_along(res), function(i) {\n",
       "    if(result[i] == -1) return(\"\")\n",
       "    st &lt;- attr(result, \"capture.start\")[i, ]\n",
       "    substring(res[i], st, st + attr(result, \"capture.length\")[i, ] - 1)\n",
       "  }))\n",
       "  colnames(m) &lt;- attr(result, \"capture.names\")\n",
       "  m\n",
       "}\n",
       "parse.one(notables, parsed)\n",
       "\n",
       "## Decompose a URL into its components.\n",
       "## Example by LT (http://www.cs.uiowa.edu/~luke/R/regexp.html).\n",
       "x &lt;- \"http://stat.umn.edu:80/xyz\"\n",
       "m &lt;- regexec(\"^(([^:]+)://)?([^:/]+)(:([0-9]+))?(/.*)\", x)\n",
       "m\n",
       "regmatches(x, m)\n",
       "## Element 3 is the protocol, 4 is the host, 6 is the port, and 7\n",
       "## is the path.  We can use this to make a function for extracting the\n",
       "## parts of a URL:\n",
       "URL_parts &lt;- function(x) {\n",
       "    m &lt;- regexec(\"^(([^:]+)://)?([^:/]+)(:([0-9]+))?(/.*)\", x)\n",
       "    parts &lt;- do.call(rbind,\n",
       "                     lapply(regmatches(x, m), `[`, c(3L, 4L, 6L, 7L)))\n",
       "    colnames(parts) &lt;- c(\"protocol\",\"host\",\"port\",\"path\")\n",
       "    parts\n",
       "}\n",
       "URL_parts(x)\n",
       "\n",
       "## There is no gregexec() yet, but one can emulate it by running\n",
       "## regexec() on the regmatches obtained via gregexpr().  E.g.:\n",
       "pattern &lt;- \"([[:alpha:]]+)([[:digit:]]+)\"\n",
       "s &lt;- \"Test: A1 BC23 DEF456\"\n",
       "lapply(regmatches(s, gregexpr(pattern, s)),\n",
       "       function(e) regmatches(e, regexec(pattern, e)))\n",
       "</pre>\n",
       "\n",
       "<hr /><div style=\"text-align: center;\">[Package <em>base</em> version 3.3.1 ]</div>"
      ],
      "text/latex": [
       "\\inputencoding{utf8}\n",
       "\\HeaderA{grep}{Pattern Matching and Replacement}{grep}\n",
       "\\aliasA{gregexpr}{grep}{gregexpr}\n",
       "\\aliasA{grepl}{grep}{grepl}\n",
       "\\aliasA{gsub}{grep}{gsub}\n",
       "\\aliasA{regexec}{grep}{regexec}\n",
       "\\aliasA{regexpr}{grep}{regexpr}\n",
       "\\aliasA{sub}{grep}{sub}\n",
       "\\keyword{character}{grep}\n",
       "\\keyword{utilities}{grep}\n",
       "%\n",
       "\\begin{Description}\\relax\n",
       "\\code{grep}, \\code{grepl}, \\code{regexpr}, \\code{gregexpr} and\n",
       "\\code{regexec} search for matches to argument \\code{pattern} within\n",
       "each element of a character vector: they differ in the format of and\n",
       "amount of detail in the results.\n",
       "\n",
       "\\code{sub} and \\code{gsub} perform replacement of the first and all\n",
       "matches respectively.\n",
       "\\end{Description}\n",
       "%\n",
       "\\begin{Usage}\n",
       "\\begin{verbatim}\n",
       "grep(pattern, x, ignore.case = FALSE, perl = FALSE, value = FALSE,\n",
       "     fixed = FALSE, useBytes = FALSE, invert = FALSE)\n",
       "\n",
       "grepl(pattern, x, ignore.case = FALSE, perl = FALSE,\n",
       "      fixed = FALSE, useBytes = FALSE)\n",
       "\n",
       "sub(pattern, replacement, x, ignore.case = FALSE, perl = FALSE,\n",
       "    fixed = FALSE, useBytes = FALSE)\n",
       "\n",
       "gsub(pattern, replacement, x, ignore.case = FALSE, perl = FALSE,\n",
       "     fixed = FALSE, useBytes = FALSE)\n",
       "\n",
       "regexpr(pattern, text, ignore.case = FALSE, perl = FALSE,\n",
       "        fixed = FALSE, useBytes = FALSE)\n",
       "\n",
       "gregexpr(pattern, text, ignore.case = FALSE, perl = FALSE,\n",
       "         fixed = FALSE, useBytes = FALSE)\n",
       "\n",
       "regexec(pattern, text, ignore.case = FALSE, perl = FALSE,\n",
       "        fixed = FALSE, useBytes = FALSE)\n",
       "\\end{verbatim}\n",
       "\\end{Usage}\n",
       "%\n",
       "\\begin{Arguments}\n",
       "\\begin{ldescription}\n",
       "\\item[\\code{pattern}] character string containing a \\LinkA{regular expression}{regular expression}\n",
       "(or character string for \\code{fixed = TRUE}) to be matched\n",
       "in the given character vector.  Coerced by\n",
       "\\code{\\LinkA{as.character}{as.character}} to a character string if possible.  If a\n",
       "character vector of length 2 or more is supplied, the first element\n",
       "is used with a warning.  Missing values are allowed except for\n",
       "\\code{regexpr} and \\code{gregexpr}.\n",
       "\\item[\\code{x, text}] a character vector where matches are sought, or an\n",
       "object which can be coerced by \\code{as.character} to a character\n",
       "vector.  \\LinkA{Long vectors}{Long vectors} are supported.\n",
       "\\item[\\code{ignore.case}] if \\code{FALSE}, the pattern matching is \\emph{case\n",
       "sensitive} and if \\code{TRUE}, case is ignored during matching.\n",
       "\\item[\\code{perl}] logical.  Should Perl-compatible regexps be used?\n",
       "\\item[\\code{value}] if \\code{FALSE}, a vector containing the (\\code{integer})\n",
       "indices of the matches determined by \\code{grep} is returned, and if\n",
       "\\code{TRUE}, a vector containing the matching elements themselves is\n",
       "returned.\n",
       "\\item[\\code{fixed}] logical.  If \\code{TRUE}, \\code{pattern} is a string to be\n",
       "matched as is.  Overrides all conflicting arguments.\n",
       "\\item[\\code{useBytes}] logical.  If \\code{TRUE} the matching is done\n",
       "byte-by-byte rather than character-by-character.  See\n",
       "`Details'.\n",
       "\\item[\\code{invert}] logical.  If \\code{TRUE} return indices or values for\n",
       "elements that do \\emph{not} match.\n",
       "\\item[\\code{replacement}] a replacement for matched pattern in \\code{sub} and\n",
       "\\code{gsub}.  Coerced to character if possible.  For \\code{fixed =\n",
       "      FALSE} this can include backreferences \\code{\"\\bsl{}1\"} to\n",
       "\\code{\"\\bsl{}9\"} to parenthesized subexpressions of \\code{pattern}.  For\n",
       "\\code{perl = TRUE} only, it can also contain \\code{\"\\bsl{}U\"} or\n",
       "\\code{\"\\bsl{}L\"} to convert the rest of the replacement to upper or\n",
       "lower case and \\code{\"\\bsl{}E\"} to end case conversion.  If a\n",
       "character vector of length 2 or more is supplied, the first element\n",
       "is used with a warning.  If \\code{NA}, all elements in the result\n",
       "corresponding to matches will be set to \\code{NA}.\n",
       "\n",
       "\\end{ldescription}\n",
       "\\end{Arguments}\n",
       "%\n",
       "\\begin{Details}\\relax\n",
       "Arguments which should be character strings or character vectors are\n",
       "coerced to character if possible.\n",
       "\n",
       "Each of these functions (apart from \\code{regexec}, which currently\n",
       "does not support Perl-style regular expressions) operates in one of\n",
       "three modes:\n",
       "\\begin{enumerate}\n",
       "\n",
       "\\item \\code{fixed = TRUE}: use exact matching.\n",
       "\\item \\code{perl = TRUE}: use Perl-style regular expressions.\n",
       "\\item \\code{fixed = FALSE, perl = FALSE}: use POSIX 1003.2\n",
       "extended regular expressions.\n",
       "\n",
       "\\end{enumerate}\n",
       "\n",
       "See the help pages on \\LinkA{regular expression}{regular expression} for details of the\n",
       "different types of regular expressions.\n",
       "\n",
       "The two \\code{*sub} functions differ only in that \\code{sub} replaces\n",
       "only the first occurrence of a \\code{pattern} whereas \\code{gsub}\n",
       "replaces all occurrences.  If \\code{replacement} contains\n",
       "backreferences which are not defined in \\code{pattern} the result is\n",
       "undefined (but most often the backreference is taken to be \\code{\"\"}).\n",
       "\n",
       "For \\code{regexpr}, \\code{gregexpr} and \\code{regexec} it is an error\n",
       "for \\code{pattern} to be \\code{NA}, otherwise \\code{NA} is permitted\n",
       "and gives an \\code{NA} match.\n",
       "\n",
       "The main effect of \\code{useBytes} is to avoid errors/warnings about\n",
       "invalid inputs and spurious matches in multibyte locales, but for\n",
       "\\code{regexpr} it changes the interpretation of the output.\n",
       "It inhibits the conversion of inputs with marked encodings, and is\n",
       "forced if any input is found which is marked as \\code{\"bytes\"}\n",
       "see \\code{\\LinkA{Encoding}{Encoding}}).\n",
       "\n",
       "Caseless matching does not make much sense for bytes in a multibyte\n",
       "locale, and you should expect it only to work for ASCII characters if\n",
       "\\code{useBytes = TRUE}.\n",
       "\n",
       "\\code{regexpr} and \\code{gregexpr} with \\code{perl = TRUE} allow\n",
       "Python-style named captures, but not for \\emph{long vector} inputs.\n",
       "\n",
       "Invalid inputs in the current locale are warned about up to 5 times.\n",
       "\n",
       "Caseless matching with \\code{PERL = TRUE} for non-ASCII characters\n",
       "depends on the PCRE library being compiled with `Unicode\n",
       "property support': an external library might not be.\n",
       "\\end{Details}\n",
       "%\n",
       "\\begin{Value}\n",
       "\\code{grep(value = FALSE)} returns a vector of the indices\n",
       "of the elements of \\code{x} that yielded a match (or not, for\n",
       "\\code{invert = TRUE}.  This will be an integer vector unless the input\n",
       "is a \\emph{long vector}, when it will be a double vector.\n",
       "\n",
       "\\code{grep(value = TRUE)} returns a character vector containing the\n",
       "selected elements of \\code{x} (after coercion, preserving names but no\n",
       "other attributes).\n",
       "\n",
       "\\code{grepl} returns a logical vector (match or not for each element of\n",
       "\\code{x}).\n",
       "\n",
       "For \\code{sub} and \\code{gsub} return a character vector of the same\n",
       "length and with the same attributes as \\code{x} (after possible\n",
       "coercion to character).  Elements of character vectors \\code{x} which\n",
       "are not substituted will be returned unchanged (including any declared\n",
       "encoding).  If \\code{useBytes = FALSE} a non-ASCII substituted result\n",
       "will often be in UTF-8 with a marked encoding (e.g., if there is a\n",
       "UTF-8 input, and in a multibyte locale unless \\code{fixed = TRUE}).\n",
       "Such strings can be re-encoded by \\code{\\LinkA{enc2native}{enc2native}}.\n",
       "\n",
       "\\code{regexpr} returns an integer vector of the same length as\n",
       "\\code{text} giving the starting position of the first match or\n",
       "\\eqn{-1}{} if there is none, with attribute \\code{\"match.length\"}, an\n",
       "integer vector giving the length of the matched text (or \\eqn{-1}{} for\n",
       "no match).  The match positions and lengths are in characters unless\n",
       "\\code{useBytes = TRUE} is used, when they are in bytes.  If named\n",
       "capture is used there are further attributes \\code{\"capture.start\"},\n",
       "\\code{\"capture.length\"} and \\code{\"capture.names\"}.\n",
       "\n",
       "\\code{gregexpr} returns a list of the same length as \\code{text} each\n",
       "element of which is of the same form as the return value for\n",
       "\\code{regexpr}, except that the starting positions of every (disjoint)\n",
       "match are given.\n",
       "\n",
       "\\code{regexec} returns a list of the same length as \\code{text} each\n",
       "element of which is either \\eqn{-1}{} if there is no match, or a\n",
       "sequence of integers with the starting positions of the match and all\n",
       "substrings corresponding to parenthesized subexpressions of\n",
       "\\code{pattern}, with attribute \\code{\"match.length\"} a vector\n",
       "giving the lengths of the matches (or \\eqn{-1}{} for no match).\n",
       "\\end{Value}\n",
       "%\n",
       "\\begin{Section}{Warning}\n",
       "POSIX 1003.2 mode of \\code{gsub} and \\code{gregexpr} does not\n",
       "work correctly with repeated word-boundaries (e.g., \\code{pattern =\n",
       "  \"\\bsl{}b\"}).  Use \\code{perl = TRUE} for such matches (but that may not\n",
       "work as expected with non-ASCII inputs, as the meaning of\n",
       "`word' is system-dependent).\n",
       "\\end{Section}\n",
       "%\n",
       "\\begin{Section}{Performance considerations}\n",
       "If you are doing a lot of regular expression matching, including on\n",
       "very long strings, you will want to consider the options used.\n",
       "Generally PCRE will be faster than the default regular expression\n",
       "engine, and \\code{fixed = TRUE} faster still (especially when each\n",
       "pattern is matched only a few times).\n",
       "\n",
       "If you are working in a single-byte locale and have marked UTF-8\n",
       "strings that are representable in that locale, convert them first as\n",
       "just one UTF-8 string will force all the matching to be done in\n",
       "Unicode, which attracts a penalty of around \\eqn{3\\times{}}{} for\n",
       "the default POSIX 1003.2 mode.\n",
       "\n",
       "If you can make use of \\code{useBytes = TRUE}, the strings will not be\n",
       "checked before matching, and the actual matching will be faster.\n",
       "Often byte-based matching suffices in a UTF-8 locale since byte\n",
       "patterns of one character never match part of another.\n",
       "\\end{Section}\n",
       "%\n",
       "\\begin{Source}\\relax\n",
       "The C code for POSIX-style regular expression matching has changed\n",
       "over the years.  As from \\R{} 2.10.0 the TRE library of Ville Laurikari\n",
       "(\\url{http://laurikari.net/tre/}) is used.  The POSIX standard does\n",
       "give some room for interpretation, especially in the handling of\n",
       "invalid regular expressions and the collation of character ranges, so\n",
       "the results will have changed slightly over the years.\n",
       "\n",
       "For Perl-style matching PCRE (\\url{http://www.pcre.org}) is used.\n",
       "\\end{Source}\n",
       "%\n",
       "\\begin{References}\\relax\n",
       "Becker, R. A., Chambers, J. M. and Wilks, A. R. (1988)\n",
       "\\emph{The New S Language}.\n",
       "Wadsworth \\& Brooks/Cole (\\code{grep})\n",
       "\\end{References}\n",
       "%\n",
       "\\begin{SeeAlso}\\relax\n",
       "\\LinkA{regular expression}{regular expression} (aka \\code{\\LinkA{regexp}{regexp}}) for the details\n",
       "of the pattern specification.\n",
       "\n",
       "\\code{\\LinkA{regmatches}{regmatches}} for extracting matched substrings based on\n",
       "the results of \\code{regexpr}, \\code{gregexpr} and \\code{regexec}.\n",
       "\n",
       "\\code{\\LinkA{glob2rx}{glob2rx}} to turn wildcard matches into regular expressions.\n",
       "\n",
       "\\code{\\LinkA{agrep}{agrep}} for approximate matching.\n",
       "\n",
       "\\code{\\LinkA{charmatch}{charmatch}}, \\code{\\LinkA{pmatch}{pmatch}} for partial matching,\n",
       "\\code{\\LinkA{match}{match}} for matching to whole strings,\n",
       "\\code{\\LinkA{startsWith}{startsWith}} for matching of initial parts of strings.\n",
       "\n",
       "\\code{\\LinkA{tolower}{tolower}}, \\code{\\LinkA{toupper}{toupper}} and \\code{\\LinkA{chartr}{chartr}}\n",
       "for character translations.\n",
       "\n",
       "\\code{\\LinkA{apropos}{apropos}} uses regexps and has more examples.\n",
       "\n",
       "\\code{\\LinkA{grepRaw}{grepRaw}} for matching raw vectors.\n",
       "\\end{SeeAlso}\n",
       "%\n",
       "\\begin{Examples}\n",
       "\\begin{ExampleCode}\n",
       "grep(\"[a-z]\", letters)\n",
       "\n",
       "txt <- c(\"arm\",\"foot\",\"lefroo\", \"bafoobar\")\n",
       "if(length(i <- grep(\"foo\", txt)))\n",
       "   cat(\"'foo' appears at least once in\\n\\t\", txt, \"\\n\")\n",
       "i # 2 and 4\n",
       "txt[i]\n",
       "\n",
       "## Double all 'a' or 'b's;  \"\\\" must be escaped, i.e., 'doubled'\n",
       "gsub(\"([ab])\", \"\\\\1_\\\\1_\", \"abc and ABC\")\n",
       "\n",
       "txt <- c(\"The\", \"licenses\", \"for\", \"most\", \"software\", \"are\",\n",
       "  \"designed\", \"to\", \"take\", \"away\", \"your\", \"freedom\",\n",
       "  \"to\", \"share\", \"and\", \"change\", \"it.\",\n",
       "   \"\", \"By\", \"contrast,\", \"the\", \"GNU\", \"General\", \"Public\", \"License\",\n",
       "   \"is\", \"intended\", \"to\", \"guarantee\", \"your\", \"freedom\", \"to\",\n",
       "   \"share\", \"and\", \"change\", \"free\", \"software\", \"--\",\n",
       "   \"to\", \"make\", \"sure\", \"the\", \"software\", \"is\",\n",
       "   \"free\", \"for\", \"all\", \"its\", \"users\")\n",
       "( i <- grep(\"[gu]\", txt) ) # indices\n",
       "stopifnot( txt[i] == grep(\"[gu]\", txt, value = TRUE) )\n",
       "\n",
       "## Note that in locales such as en_US this includes B as the\n",
       "## collation order is aAbBcCdEe ...\n",
       "(ot <- sub(\"[b-e]\",\".\", txt))\n",
       "txt[ot != gsub(\"[b-e]\",\".\", txt)]#- gsub does \"global\" substitution\n",
       "\n",
       "txt[gsub(\"g\",\"#\", txt) !=\n",
       "    gsub(\"g\",\"#\", txt, ignore.case = TRUE)] # the \"G\" words\n",
       "\n",
       "regexpr(\"en\", txt)\n",
       "\n",
       "gregexpr(\"e\", txt)\n",
       "\n",
       "## Using grepl() for filtering\n",
       "## Find functions with argument names matching \"warn\":\n",
       "findArgs <- function(env, pattern) {\n",
       "  nms <- ls(envir = as.environment(env))\n",
       "  nms <- nms[is.na(match(nms, c(\"F\",\"T\")))] # <-- work around \"checking hack\"\n",
       "  aa <- sapply(nms, function(.) { o <- get(.)\n",
       "               if(is.function(o)) names(formals(o)) })\n",
       "  iw <- sapply(aa, function(a) any(grepl(pattern, a, ignore.case=TRUE)))\n",
       "  aa[iw]\n",
       "}\n",
       "findArgs(\"package:base\", \"warn\")\n",
       "\n",
       "## trim trailing white space\n",
       "str <- \"Now is the time      \"\n",
       "sub(\" +$\", \"\", str)  ## spaces only\n",
       "## what is considered 'white space' depends on the locale.\n",
       "sub(\"[[:space:]]+$\", \"\", str) ## white space, POSIX-style\n",
       "## what PCRE considered white space changed in version 8.34: see ?regex\n",
       "sub(\"\\\\s+$\", \"\", str, perl = TRUE) ## PCRE-style white space\n",
       "\n",
       "## capitalizing\n",
       "txt <- \"a test of capitalizing\"\n",
       "gsub(\"(\\\\w)(\\\\w*)\", \"\\\\U\\\\1\\\\L\\\\2\", txt, perl=TRUE)\n",
       "gsub(\"\\\\b(\\\\w)\",    \"\\\\U\\\\1\",       txt, perl=TRUE)\n",
       "\n",
       "txt2 <- \"useRs may fly into JFK or laGuardia\"\n",
       "gsub(\"(\\\\w)(\\\\w*)(\\\\w)\", \"\\\\U\\\\1\\\\E\\\\2\\\\U\\\\3\", txt2, perl=TRUE)\n",
       " sub(\"(\\\\w)(\\\\w*)(\\\\w)\", \"\\\\U\\\\1\\\\E\\\\2\\\\U\\\\3\", txt2, perl=TRUE)\n",
       "\n",
       "## named capture\n",
       "notables <- c(\"  Ben Franklin and Jefferson Davis\",\n",
       "              \"\\tMillard Fillmore\")\n",
       "# name groups 'first' and 'last'\n",
       "name.rex <- \"(?<first>[[:upper:]][[:lower:]]+) (?<last>[[:upper:]][[:lower:]]+)\"\n",
       "(parsed <- regexpr(name.rex, notables, perl = TRUE))\n",
       "gregexpr(name.rex, notables, perl = TRUE)[[2]]\n",
       "parse.one <- function(res, result) {\n",
       "  m <- do.call(rbind, lapply(seq_along(res), function(i) {\n",
       "    if(result[i] == -1) return(\"\")\n",
       "    st <- attr(result, \"capture.start\")[i, ]\n",
       "    substring(res[i], st, st + attr(result, \"capture.length\")[i, ] - 1)\n",
       "  }))\n",
       "  colnames(m) <- attr(result, \"capture.names\")\n",
       "  m\n",
       "}\n",
       "parse.one(notables, parsed)\n",
       "\n",
       "## Decompose a URL into its components.\n",
       "## Example by LT (http://www.cs.uiowa.edu/~luke/R/regexp.html).\n",
       "x <- \"http://stat.umn.edu:80/xyz\"\n",
       "m <- regexec(\"^(([^:]+)://)?([^:/]+)(:([0-9]+))?(/.*)\", x)\n",
       "m\n",
       "regmatches(x, m)\n",
       "## Element 3 is the protocol, 4 is the host, 6 is the port, and 7\n",
       "## is the path.  We can use this to make a function for extracting the\n",
       "## parts of a URL:\n",
       "URL_parts <- function(x) {\n",
       "    m <- regexec(\"^(([^:]+)://)?([^:/]+)(:([0-9]+))?(/.*)\", x)\n",
       "    parts <- do.call(rbind,\n",
       "                     lapply(regmatches(x, m), `[`, c(3L, 4L, 6L, 7L)))\n",
       "    colnames(parts) <- c(\"protocol\",\"host\",\"port\",\"path\")\n",
       "    parts\n",
       "}\n",
       "URL_parts(x)\n",
       "\n",
       "## There is no gregexec() yet, but one can emulate it by running\n",
       "## regexec() on the regmatches obtained via gregexpr().  E.g.:\n",
       "pattern <- \"([[:alpha:]]+)([[:digit:]]+)\"\n",
       "s <- \"Test: A1 BC23 DEF456\"\n",
       "lapply(regmatches(s, gregexpr(pattern, s)),\n",
       "       function(e) regmatches(e, regexec(pattern, e)))\n",
       "\\end{ExampleCode}\n",
       "\\end{Examples}"
      ],
      "text/plain": [
       "grep                   package:base                    R Documentation\n",
       "\n",
       "_\bP_\ba_\bt_\bt_\be_\br_\bn _\bM_\ba_\bt_\bc_\bh_\bi_\bn_\bg _\ba_\bn_\bd _\bR_\be_\bp_\bl_\ba_\bc_\be_\bm_\be_\bn_\bt\n",
       "\n",
       "_\bD_\be_\bs_\bc_\br_\bi_\bp_\bt_\bi_\bo_\bn:\n",
       "\n",
       "     ‘grep’, ‘grepl’, ‘regexpr’, ‘gregexpr’ and ‘regexec’ search for\n",
       "     matches to argument ‘pattern’ within each element of a character\n",
       "     vector: they differ in the format of and amount of detail in the\n",
       "     results.\n",
       "\n",
       "     ‘sub’ and ‘gsub’ perform replacement of the first and all matches\n",
       "     respectively.\n",
       "\n",
       "_\bU_\bs_\ba_\bg_\be:\n",
       "\n",
       "     grep(pattern, x, ignore.case = FALSE, perl = FALSE, value = FALSE,\n",
       "          fixed = FALSE, useBytes = FALSE, invert = FALSE)\n",
       "     \n",
       "     grepl(pattern, x, ignore.case = FALSE, perl = FALSE,\n",
       "           fixed = FALSE, useBytes = FALSE)\n",
       "     \n",
       "     sub(pattern, replacement, x, ignore.case = FALSE, perl = FALSE,\n",
       "         fixed = FALSE, useBytes = FALSE)\n",
       "     \n",
       "     gsub(pattern, replacement, x, ignore.case = FALSE, perl = FALSE,\n",
       "          fixed = FALSE, useBytes = FALSE)\n",
       "     \n",
       "     regexpr(pattern, text, ignore.case = FALSE, perl = FALSE,\n",
       "             fixed = FALSE, useBytes = FALSE)\n",
       "     \n",
       "     gregexpr(pattern, text, ignore.case = FALSE, perl = FALSE,\n",
       "              fixed = FALSE, useBytes = FALSE)\n",
       "     \n",
       "     regexec(pattern, text, ignore.case = FALSE, perl = FALSE,\n",
       "             fixed = FALSE, useBytes = FALSE)\n",
       "     \n",
       "_\bA_\br_\bg_\bu_\bm_\be_\bn_\bt_\bs:\n",
       "\n",
       " pattern: character string containing a regular expression (or\n",
       "          character string for ‘fixed = TRUE’) to be matched in the\n",
       "          given character vector.  Coerced by ‘as.character’ to a\n",
       "          character string if possible.  If a character vector of\n",
       "          length 2 or more is supplied, the first element is used with\n",
       "          a warning.  Missing values are allowed except for ‘regexpr’\n",
       "          and ‘gregexpr’.\n",
       "\n",
       " x, text: a character vector where matches are sought, or an object\n",
       "          which can be coerced by ‘as.character’ to a character vector.\n",
       "          Long vectors are supported.\n",
       "\n",
       "ignore.case: if ‘FALSE’, the pattern matching is _case sensitive_ and\n",
       "          if ‘TRUE’, case is ignored during matching.\n",
       "\n",
       "    perl: logical.  Should Perl-compatible regexps be used?\n",
       "\n",
       "   value: if ‘FALSE’, a vector containing the (‘integer’) indices of\n",
       "          the matches determined by ‘grep’ is returned, and if ‘TRUE’,\n",
       "          a vector containing the matching elements themselves is\n",
       "          returned.\n",
       "\n",
       "   fixed: logical.  If ‘TRUE’, ‘pattern’ is a string to be matched as\n",
       "          is.  Overrides all conflicting arguments.\n",
       "\n",
       "useBytes: logical.  If ‘TRUE’ the matching is done byte-by-byte rather\n",
       "          than character-by-character.  See ‘Details’.\n",
       "\n",
       "  invert: logical.  If ‘TRUE’ return indices or values for elements\n",
       "          that do _not_ match.\n",
       "\n",
       "replacement: a replacement for matched pattern in ‘sub’ and ‘gsub’.\n",
       "          Coerced to character if possible.  For ‘fixed = FALSE’ this\n",
       "          can include backreferences ‘\"\\1\"’ to ‘\"\\9\"’ to parenthesized\n",
       "          subexpressions of ‘pattern’.  For ‘perl = TRUE’ only, it can\n",
       "          also contain ‘\"\\U\"’ or ‘\"\\L\"’ to convert the rest of the\n",
       "          replacement to upper or lower case and ‘\"\\E\"’ to end case\n",
       "          conversion.  If a character vector of length 2 or more is\n",
       "          supplied, the first element is used with a warning.  If ‘NA’,\n",
       "          all elements in the result corresponding to matches will be\n",
       "          set to ‘NA’.\n",
       "\n",
       "_\bD_\be_\bt_\ba_\bi_\bl_\bs:\n",
       "\n",
       "     Arguments which should be character strings or character vectors\n",
       "     are coerced to character if possible.\n",
       "\n",
       "     Each of these functions (apart from ‘regexec’, which currently\n",
       "     does not support Perl-style regular expressions) operates in one\n",
       "     of three modes:\n",
       "\n",
       "       1. ‘fixed = TRUE’: use exact matching.\n",
       "\n",
       "       2. ‘perl = TRUE’: use Perl-style regular expressions.\n",
       "\n",
       "       3. ‘fixed = FALSE, perl = FALSE’: use POSIX 1003.2 extended\n",
       "          regular expressions.\n",
       "\n",
       "     See the help pages on regular expression for details of the\n",
       "     different types of regular expressions.\n",
       "\n",
       "     The two ‘*sub’ functions differ only in that ‘sub’ replaces only\n",
       "     the first occurrence of a ‘pattern’ whereas ‘gsub’ replaces all\n",
       "     occurrences.  If ‘replacement’ contains backreferences which are\n",
       "     not defined in ‘pattern’ the result is undefined (but most often\n",
       "     the backreference is taken to be ‘\"\"’).\n",
       "\n",
       "     For ‘regexpr’, ‘gregexpr’ and ‘regexec’ it is an error for\n",
       "     ‘pattern’ to be ‘NA’, otherwise ‘NA’ is permitted and gives an\n",
       "     ‘NA’ match.\n",
       "\n",
       "     The main effect of ‘useBytes’ is to avoid errors/warnings about\n",
       "     invalid inputs and spurious matches in multibyte locales, but for\n",
       "     ‘regexpr’ it changes the interpretation of the output.  It\n",
       "     inhibits the conversion of inputs with marked encodings, and is\n",
       "     forced if any input is found which is marked as ‘\"bytes\"’ see\n",
       "     ‘Encoding’).\n",
       "\n",
       "     Caseless matching does not make much sense for bytes in a\n",
       "     multibyte locale, and you should expect it only to work for ASCII\n",
       "     characters if ‘useBytes = TRUE’.\n",
       "\n",
       "     ‘regexpr’ and ‘gregexpr’ with ‘perl = TRUE’ allow Python-style\n",
       "     named captures, but not for _long vector_ inputs.\n",
       "\n",
       "     Invalid inputs in the current locale are warned about up to 5\n",
       "     times.\n",
       "\n",
       "     Caseless matching with ‘PERL = TRUE’ for non-ASCII characters\n",
       "     depends on the PCRE library being compiled with ‘Unicode property\n",
       "     support’: an external library might not be.\n",
       "\n",
       "_\bV_\ba_\bl_\bu_\be:\n",
       "\n",
       "     ‘grep(value = FALSE)’ returns a vector of the indices of the\n",
       "     elements of ‘x’ that yielded a match (or not, for ‘invert = TRUE’.\n",
       "     This will be an integer vector unless the input is a _long\n",
       "     vector_, when it will be a double vector.\n",
       "\n",
       "     ‘grep(value = TRUE)’ returns a character vector containing the\n",
       "     selected elements of ‘x’ (after coercion, preserving names but no\n",
       "     other attributes).\n",
       "\n",
       "     ‘grepl’ returns a logical vector (match or not for each element of\n",
       "     ‘x’).\n",
       "\n",
       "     For ‘sub’ and ‘gsub’ return a character vector of the same length\n",
       "     and with the same attributes as ‘x’ (after possible coercion to\n",
       "     character).  Elements of character vectors ‘x’ which are not\n",
       "     substituted will be returned unchanged (including any declared\n",
       "     encoding).  If ‘useBytes = FALSE’ a non-ASCII substituted result\n",
       "     will often be in UTF-8 with a marked encoding (e.g., if there is a\n",
       "     UTF-8 input, and in a multibyte locale unless ‘fixed = TRUE’).\n",
       "     Such strings can be re-encoded by ‘enc2native’.\n",
       "\n",
       "     ‘regexpr’ returns an integer vector of the same length as ‘text’\n",
       "     giving the starting position of the first match or -1 if there is\n",
       "     none, with attribute ‘\"match.length\"’, an integer vector giving\n",
       "     the length of the matched text (or -1 for no match).  The match\n",
       "     positions and lengths are in characters unless ‘useBytes = TRUE’\n",
       "     is used, when they are in bytes.  If named capture is used there\n",
       "     are further attributes ‘\"capture.start\"’, ‘\"capture.length\"’ and\n",
       "     ‘\"capture.names\"’.\n",
       "\n",
       "     ‘gregexpr’ returns a list of the same length as ‘text’ each\n",
       "     element of which is of the same form as the return value for\n",
       "     ‘regexpr’, except that the starting positions of every (disjoint)\n",
       "     match are given.\n",
       "\n",
       "     ‘regexec’ returns a list of the same length as ‘text’ each element\n",
       "     of which is either -1 if there is no match, or a sequence of\n",
       "     integers with the starting positions of the match and all\n",
       "     substrings corresponding to parenthesized subexpressions of\n",
       "     ‘pattern’, with attribute ‘\"match.length\"’ a vector giving the\n",
       "     lengths of the matches (or -1 for no match).\n",
       "\n",
       "_\bW_\ba_\br_\bn_\bi_\bn_\bg:\n",
       "\n",
       "     POSIX 1003.2 mode of ‘gsub’ and ‘gregexpr’ does not work correctly\n",
       "     with repeated word-boundaries (e.g., ‘pattern = \"\\b\"’).  Use ‘perl\n",
       "     = TRUE’ for such matches (but that may not work as expected with\n",
       "     non-ASCII inputs, as the meaning of ‘word’ is system-dependent).\n",
       "\n",
       "_\bP_\be_\br_\bf_\bo_\br_\bm_\ba_\bn_\bc_\be _\bc_\bo_\bn_\bs_\bi_\bd_\be_\br_\ba_\bt_\bi_\bo_\bn_\bs:\n",
       "\n",
       "     If you are doing a lot of regular expression matching, including\n",
       "     on very long strings, you will want to consider the options used.\n",
       "     Generally PCRE will be faster than the default regular expression\n",
       "     engine, and ‘fixed = TRUE’ faster still (especially when each\n",
       "     pattern is matched only a few times).\n",
       "\n",
       "     If you are working in a single-byte locale and have marked UTF-8\n",
       "     strings that are representable in that locale, convert them first\n",
       "     as just one UTF-8 string will force all the matching to be done in\n",
       "     Unicode, which attracts a penalty of around 3x for the default\n",
       "     POSIX 1003.2 mode.\n",
       "\n",
       "     If you can make use of ‘useBytes = TRUE’, the strings will not be\n",
       "     checked before matching, and the actual matching will be faster.\n",
       "     Often byte-based matching suffices in a UTF-8 locale since byte\n",
       "     patterns of one character never match part of another.\n",
       "\n",
       "_\bS_\bo_\bu_\br_\bc_\be:\n",
       "\n",
       "     The C code for POSIX-style regular expression matching has changed\n",
       "     over the years.  As from R 2.10.0 the TRE library of Ville\n",
       "     Laurikari (<URL: http://laurikari.net/tre/>) is used.  The POSIX\n",
       "     standard does give some room for interpretation, especially in the\n",
       "     handling of invalid regular expressions and the collation of\n",
       "     character ranges, so the results will have changed slightly over\n",
       "     the years.\n",
       "\n",
       "     For Perl-style matching PCRE (<URL: http://www.pcre.org>) is used.\n",
       "\n",
       "_\bR_\be_\bf_\be_\br_\be_\bn_\bc_\be_\bs:\n",
       "\n",
       "     Becker, R. A., Chambers, J. M. and Wilks, A. R. (1988) _The New S\n",
       "     Language_.  Wadsworth & Brooks/Cole (‘grep’)\n",
       "\n",
       "_\bS_\be_\be _\bA_\bl_\bs_\bo:\n",
       "\n",
       "     regular expression (aka ‘regexp’) for the details of the pattern\n",
       "     specification.\n",
       "\n",
       "     ‘regmatches’ for extracting matched substrings based on the\n",
       "     results of ‘regexpr’, ‘gregexpr’ and ‘regexec’.\n",
       "\n",
       "     ‘glob2rx’ to turn wildcard matches into regular expressions.\n",
       "\n",
       "     ‘agrep’ for approximate matching.\n",
       "\n",
       "     ‘charmatch’, ‘pmatch’ for partial matching, ‘match’ for matching\n",
       "     to whole strings, ‘startsWith’ for matching of initial parts of\n",
       "     strings.\n",
       "\n",
       "     ‘tolower’, ‘toupper’ and ‘chartr’ for character translations.\n",
       "\n",
       "     ‘apropos’ uses regexps and has more examples.\n",
       "\n",
       "     ‘grepRaw’ for matching raw vectors.\n",
       "\n",
       "_\bE_\bx_\ba_\bm_\bp_\bl_\be_\bs:\n",
       "\n",
       "     grep(\"[a-z]\", letters)\n",
       "     \n",
       "     txt <- c(\"arm\",\"foot\",\"lefroo\", \"bafoobar\")\n",
       "     if(length(i <- grep(\"foo\", txt)))\n",
       "        cat(\"'foo' appears at least once in\\n\\t\", txt, \"\\n\")\n",
       "     i # 2 and 4\n",
       "     txt[i]\n",
       "     \n",
       "     ## Double all 'a' or 'b's;  \"\\\" must be escaped, i.e., 'doubled'\n",
       "     gsub(\"([ab])\", \"\\\\1_\\\\1_\", \"abc and ABC\")\n",
       "     \n",
       "     txt <- c(\"The\", \"licenses\", \"for\", \"most\", \"software\", \"are\",\n",
       "       \"designed\", \"to\", \"take\", \"away\", \"your\", \"freedom\",\n",
       "       \"to\", \"share\", \"and\", \"change\", \"it.\",\n",
       "        \"\", \"By\", \"contrast,\", \"the\", \"GNU\", \"General\", \"Public\", \"License\",\n",
       "        \"is\", \"intended\", \"to\", \"guarantee\", \"your\", \"freedom\", \"to\",\n",
       "        \"share\", \"and\", \"change\", \"free\", \"software\", \"--\",\n",
       "        \"to\", \"make\", \"sure\", \"the\", \"software\", \"is\",\n",
       "        \"free\", \"for\", \"all\", \"its\", \"users\")\n",
       "     ( i <- grep(\"[gu]\", txt) ) # indices\n",
       "     stopifnot( txt[i] == grep(\"[gu]\", txt, value = TRUE) )\n",
       "     \n",
       "     ## Note that in locales such as en_US this includes B as the\n",
       "     ## collation order is aAbBcCdEe ...\n",
       "     (ot <- sub(\"[b-e]\",\".\", txt))\n",
       "     txt[ot != gsub(\"[b-e]\",\".\", txt)]#- gsub does \"global\" substitution\n",
       "     \n",
       "     txt[gsub(\"g\",\"#\", txt) !=\n",
       "         gsub(\"g\",\"#\", txt, ignore.case = TRUE)] # the \"G\" words\n",
       "     \n",
       "     regexpr(\"en\", txt)\n",
       "     \n",
       "     gregexpr(\"e\", txt)\n",
       "     \n",
       "     ## Using grepl() for filtering\n",
       "     ## Find functions with argument names matching \"warn\":\n",
       "     findArgs <- function(env, pattern) {\n",
       "       nms <- ls(envir = as.environment(env))\n",
       "       nms <- nms[is.na(match(nms, c(\"F\",\"T\")))] # <-- work around \"checking hack\"\n",
       "       aa <- sapply(nms, function(.) { o <- get(.)\n",
       "                    if(is.function(o)) names(formals(o)) })\n",
       "       iw <- sapply(aa, function(a) any(grepl(pattern, a, ignore.case=TRUE)))\n",
       "       aa[iw]\n",
       "     }\n",
       "     findArgs(\"package:base\", \"warn\")\n",
       "     \n",
       "     ## trim trailing white space\n",
       "     str <- \"Now is the time      \"\n",
       "     sub(\" +$\", \"\", str)  ## spaces only\n",
       "     ## what is considered 'white space' depends on the locale.\n",
       "     sub(\"[[:space:]]+$\", \"\", str) ## white space, POSIX-style\n",
       "     ## what PCRE considered white space changed in version 8.34: see ?regex\n",
       "     sub(\"\\\\s+$\", \"\", str, perl = TRUE) ## PCRE-style white space\n",
       "     \n",
       "     ## capitalizing\n",
       "     txt <- \"a test of capitalizing\"\n",
       "     gsub(\"(\\\\w)(\\\\w*)\", \"\\\\U\\\\1\\\\L\\\\2\", txt, perl=TRUE)\n",
       "     gsub(\"\\\\b(\\\\w)\",    \"\\\\U\\\\1\",       txt, perl=TRUE)\n",
       "     \n",
       "     txt2 <- \"useRs may fly into JFK or laGuardia\"\n",
       "     gsub(\"(\\\\w)(\\\\w*)(\\\\w)\", \"\\\\U\\\\1\\\\E\\\\2\\\\U\\\\3\", txt2, perl=TRUE)\n",
       "      sub(\"(\\\\w)(\\\\w*)(\\\\w)\", \"\\\\U\\\\1\\\\E\\\\2\\\\U\\\\3\", txt2, perl=TRUE)\n",
       "     \n",
       "     ## named capture\n",
       "     notables <- c(\"  Ben Franklin and Jefferson Davis\",\n",
       "                   \"\\tMillard Fillmore\")\n",
       "     # name groups 'first' and 'last'\n",
       "     name.rex <- \"(?<first>[[:upper:]][[:lower:]]+) (?<last>[[:upper:]][[:lower:]]+)\"\n",
       "     (parsed <- regexpr(name.rex, notables, perl = TRUE))\n",
       "     gregexpr(name.rex, notables, perl = TRUE)[[2]]\n",
       "     parse.one <- function(res, result) {\n",
       "       m <- do.call(rbind, lapply(seq_along(res), function(i) {\n",
       "         if(result[i] == -1) return(\"\")\n",
       "         st <- attr(result, \"capture.start\")[i, ]\n",
       "         substring(res[i], st, st + attr(result, \"capture.length\")[i, ] - 1)\n",
       "       }))\n",
       "       colnames(m) <- attr(result, \"capture.names\")\n",
       "       m\n",
       "     }\n",
       "     parse.one(notables, parsed)\n",
       "     \n",
       "     ## Decompose a URL into its components.\n",
       "     ## Example by LT (http://www.cs.uiowa.edu/~luke/R/regexp.html).\n",
       "     x <- \"http://stat.umn.edu:80/xyz\"\n",
       "     m <- regexec(\"^(([^:]+)://)?([^:/]+)(:([0-9]+))?(/.*)\", x)\n",
       "     m\n",
       "     regmatches(x, m)\n",
       "     ## Element 3 is the protocol, 4 is the host, 6 is the port, and 7\n",
       "     ## is the path.  We can use this to make a function for extracting the\n",
       "     ## parts of a URL:\n",
       "     URL_parts <- function(x) {\n",
       "         m <- regexec(\"^(([^:]+)://)?([^:/]+)(:([0-9]+))?(/.*)\", x)\n",
       "         parts <- do.call(rbind,\n",
       "                          lapply(regmatches(x, m), `[`, c(3L, 4L, 6L, 7L)))\n",
       "         colnames(parts) <- c(\"protocol\",\"host\",\"port\",\"path\")\n",
       "         parts\n",
       "     }\n",
       "     URL_parts(x)\n",
       "     \n",
       "     ## There is no gregexec() yet, but one can emulate it by running\n",
       "     ## regexec() on the regmatches obtained via gregexpr().  E.g.:\n",
       "     pattern <- \"([[:alpha:]]+)([[:digit:]]+)\"\n",
       "     s <- \"Test: A1 BC23 DEF456\"\n",
       "     lapply(regmatches(s, gregexpr(pattern, s)),\n",
       "            function(e) regmatches(e, regexec(pattern, e)))\n",
       "     "
      ]
     },
     "metadata": {},
     "output_type": "display_data"
    }
   ],
   "source": [
    "# But it is simply a wrapper of another function\n",
    "?grep"
   ]
  },
  {
   "cell_type": "code",
   "execution_count": 18,
   "metadata": {
    "collapsed": true
   },
   "outputs": [],
   "source": [
    "# Documentation allows you to look up what the function does\n",
    "# and how it works.\n",
    "\n",
    "# To that end, we will use documentation in this course\n",
    "# rigorously, or at least you will and I will avoid it so I can\n",
    "# ask you to do it for homework\n",
    "\n",
    "# There are two ways to approach this problem: personal style\n",
    "# or roxygen.\n",
    "\n",
    "# Personally I use a pythonic documentation style\n",
    "whereis <- function(pattern, word){\n",
    "    # A function to find the first index of a pattern in a\n",
    "    # string.\n",
    "    #\n",
    "    # Parameters\n",
    "    # ----------\n",
    "    #    pattern    :    character; the pattern to find\n",
    "    #    word       :    character; the phrase in which to search\n",
    "    #\n",
    "    # Returns\n",
    "    # ----------\n",
    "    #               :    double; the index of the first occurance\n",
    "    return(grep(pattern, word))\n",
    "}\n",
    "\n",
    "# The other way to do your documentation is to look ahead to\n",
    "# how you'll need to deal with it when you build help docs.\n",
    "# In particular, my documentaiton will provide no output from\n",
    "# ?whereis. There is a package called roxygen which builds\n",
    "# documentation files for you if you put your documentation\n",
    "# in the correct format\n",
    "\n",
    "#' A function to find the first index of a pattern in a string.\n",
    "#'\n",
    "#' @param pattern String: a pattern\n",
    "#' @param word String: a string\n",
    "#' @return The index\n",
    "#' @seealso \\code{\\link{grep}}\n",
    "#' @export\n",
    "whereis <- function(pattern, word){\n",
    "    return(grep(pattern, word))\n",
    "}\n",
    "\n",
    "# When you build a package later this will be converted into\n",
    "# a help document that allows you to query ?whereis. I\n",
    "# encourage you to follow this standard, but understand if\n",
    "# you choose to follow another one. In any case, practice using\n",
    "# documentation so you don't struggle in the future!"
   ]
  },
  {
   "cell_type": "code",
   "execution_count": 40,
   "metadata": {
    "collapsed": false
   },
   "outputs": [
    {
     "data": {
      "text/html": [
       "10"
      ],
      "text/latex": [
       "10"
      ],
      "text/markdown": [
       "10"
      ],
      "text/plain": [
       "[1] 10"
      ]
     },
     "metadata": {},
     "output_type": "display_data"
    }
   ],
   "source": [
    "# Now let's move back to our problem. The first thing we should\n",
    "# do is break down the problem into steps, what do we need to\n",
    "# do in the most fundamental sense?\n",
    "\n",
    "#### Write pseudo code on the board\n",
    "\n",
    "# Start from the sum and show different ways of calculating it\n",
    "x <- rep(1, 10)\n",
    "\n",
    "summation <- 0\n",
    "for(i in 1:length(x)){\n",
    "    summation <- summation + x[i]\n",
    "}\n",
    "\n",
    "summation <- 0\n",
    "i <- 1\n",
    "while(i <= length(x)){\n",
    "    summation <- summation + x[i]\n",
    "    i <- i + 1\n",
    "}\n",
    "\n",
    "summation <- 0\n",
    "for(i in x){\n",
    "    summation <- summation + i\n",
    "}\n",
    "\n",
    "sum(x)"
   ]
  },
  {
   "cell_type": "code",
   "execution_count": 41,
   "metadata": {
    "collapsed": false
   },
   "outputs": [],
   "source": [
    "# Let's write a function to calculate our sum\n",
    "our_sum <- function(x){\n",
    "    summation <- 0\n",
    "    for(i in x){\n",
    "        summation <- summation + i\n",
    "    }\n",
    "    return(summation)\n",
    "}"
   ]
  },
  {
   "cell_type": "code",
   "execution_count": 45,
   "metadata": {
    "collapsed": false
   },
   "outputs": [
    {
     "data": {
      "text/plain": [
       "   user  system elapsed \n",
       "  0.364   0.000   0.367 "
      ]
     },
     "metadata": {},
     "output_type": "display_data"
    },
    {
     "data": {
      "text/plain": [
       "   user  system elapsed \n",
       " 40.340   0.008  40.349 "
      ]
     },
     "metadata": {},
     "output_type": "display_data"
    }
   ],
   "source": [
    "# NOw let's time our function!\n",
    "\n",
    "# NOTE: dont go above 1e6 which takes 0.4, 40 respectively\n",
    "x <- rep(1, 1e6)\n",
    "\n",
    "system.time(sum(x))\n",
    "system.time(our_sum(x))"
   ]
  },
  {
   "cell_type": "code",
   "execution_count": 47,
   "metadata": {
    "collapsed": true
   },
   "outputs": [],
   "source": [
    "################\n",
    "# Data types\n",
    "\n",
    "# Now what happens when we put differnt data types into our function?\n",
    "# what do I mean by \"different data types\"?"
   ]
  },
  {
   "cell_type": "code",
   "execution_count": 48,
   "metadata": {
    "collapsed": false
   },
   "outputs": [
    {
     "data": {
      "text/html": [
       "'double'"
      ],
      "text/latex": [
       "'double'"
      ],
      "text/markdown": [
       "'double'"
      ],
      "text/plain": [
       "[1] \"double\""
      ]
     },
     "metadata": {},
     "output_type": "display_data"
    },
    {
     "data": {
      "text/html": [
       "'double'"
      ],
      "text/latex": [
       "'double'"
      ],
      "text/markdown": [
       "'double'"
      ],
      "text/plain": [
       "[1] \"double\""
      ]
     },
     "metadata": {},
     "output_type": "display_data"
    },
    {
     "data": {
      "text/html": [
       "'character'"
      ],
      "text/latex": [
       "'character'"
      ],
      "text/markdown": [
       "'character'"
      ],
      "text/plain": [
       "[1] \"character\""
      ]
     },
     "metadata": {},
     "output_type": "display_data"
    },
    {
     "data": {
      "text/html": [
       "'logical'"
      ],
      "text/latex": [
       "'logical'"
      ],
      "text/markdown": [
       "'logical'"
      ],
      "text/plain": [
       "[1] \"logical\""
      ]
     },
     "metadata": {},
     "output_type": "display_data"
    }
   ],
   "source": [
    "typeof(1)\n",
    "typeof(1.0)\n",
    "typeof(\"hello\")\n",
    "typeof(T)"
   ]
  },
  {
   "cell_type": "code",
   "execution_count": 50,
   "metadata": {
    "collapsed": false
   },
   "outputs": [
    {
     "ename": "ERROR",
     "evalue": "Error in summation + i: non-numeric argument to binary operator\n",
     "output_type": "error",
     "traceback": [
      "Error in summation + i: non-numeric argument to binary operator\nTraceback:\n",
      "1. our_sum(\"a string\")"
     ]
    }
   ],
   "source": [
    "# can we sum a string?\n",
    "our_sum(\"a string\")"
   ]
  },
  {
   "cell_type": "code",
   "execution_count": 51,
   "metadata": {
    "collapsed": false
   },
   "outputs": [
    {
     "data": {
      "text/html": [
       "2"
      ],
      "text/latex": [
       "2"
      ],
      "text/markdown": [
       "2"
      ],
      "text/plain": [
       "[1] 2"
      ]
     },
     "metadata": {},
     "output_type": "display_data"
    }
   ],
   "source": [
    "# can we sum a vector of booleans?\n",
    "our_sum(c(T, T))"
   ]
  },
  {
   "cell_type": "code",
   "execution_count": 52,
   "metadata": {
    "collapsed": true
   },
   "outputs": [],
   "source": [
    "# It is important to know how functions deal with data types\n",
    "\n",
    "# When you pass a function variables, these are called\n",
    "# arguments. They take two types in R: Positional arguments and\n",
    "# Default arguments (otherwise known as keyword arguments)\n",
    "\n",
    "# Let's write a function to take a random sample... how would\n",
    "# you do this? What arguments should the function take?\n",
    "\n",
    "sample <- function(n, F_inv=function(x) x){\n",
    "    unif_sample <- runif(n)\n",
    "    return(F_inv(unif_sample))\n",
    "}"
   ]
  },
  {
   "cell_type": "code",
   "execution_count": 55,
   "metadata": {
    "collapsed": false
   },
   "outputs": [
    {
     "data": {
      "text/html": [
       "<ol class=list-inline>\n",
       "\t<li>0.0303655853495002</li>\n",
       "\t<li>0.644148266641423</li>\n",
       "\t<li>0.565676973666996</li>\n",
       "\t<li>0.56568676745519</li>\n",
       "\t<li>0.332286457298324</li>\n",
       "</ol>\n"
      ],
      "text/latex": [
       "\\begin{enumerate*}\n",
       "\\item 0.0303655853495002\n",
       "\\item 0.644148266641423\n",
       "\\item 0.565676973666996\n",
       "\\item 0.56568676745519\n",
       "\\item 0.332286457298324\n",
       "\\end{enumerate*}\n"
      ],
      "text/markdown": [
       "1. 0.0303655853495002\n",
       "2. 0.644148266641423\n",
       "3. 0.565676973666996\n",
       "4. 0.56568676745519\n",
       "5. 0.332286457298324\n",
       "\n",
       "\n"
      ],
      "text/plain": [
       "[1] 0.03036559 0.64414827 0.56567697 0.56568677 0.33228646"
      ]
     },
     "metadata": {},
     "output_type": "display_data"
    }
   ],
   "source": [
    "sample(5)"
   ]
  },
  {
   "cell_type": "code",
   "execution_count": 59,
   "metadata": {
    "collapsed": false
   },
   "outputs": [
    {
     "data": {
      "text/html": [
       "<ol class=list-inline>\n",
       "\t<li>0.254354261327535</li>\n",
       "\t<li>0.885510402033105</li>\n",
       "\t<li>0.924424302531406</li>\n",
       "\t<li>0.591956414515153</li>\n",
       "\t<li>0.509531611576676</li>\n",
       "</ol>\n"
      ],
      "text/latex": [
       "\\begin{enumerate*}\n",
       "\\item 0.254354261327535\n",
       "\\item 0.885510402033105\n",
       "\\item 0.924424302531406\n",
       "\\item 0.591956414515153\n",
       "\\item 0.509531611576676\n",
       "\\end{enumerate*}\n"
      ],
      "text/markdown": [
       "1. 0.254354261327535\n",
       "2. 0.885510402033105\n",
       "3. 0.924424302531406\n",
       "4. 0.591956414515153\n",
       "5. 0.509531611576676\n",
       "\n",
       "\n"
      ],
      "text/plain": [
       "[1] 0.2543543 0.8855104 0.9244243 0.5919564 0.5095316"
      ]
     },
     "metadata": {},
     "output_type": "display_data"
    },
    {
     "data": {
      "text/html": [
       "<ol class=list-inline>\n",
       "\t<li>9.177772088442</li>\n",
       "\t<li>2.85861286101863</li>\n",
       "\t<li>9.69297726172954</li>\n",
       "\t<li>0.812022336758673</li>\n",
       "\t<li>5.82745091058314</li>\n",
       "</ol>\n"
      ],
      "text/latex": [
       "\\begin{enumerate*}\n",
       "\\item 9.177772088442\n",
       "\\item 2.85861286101863\n",
       "\\item 9.69297726172954\n",
       "\\item 0.812022336758673\n",
       "\\item 5.82745091058314\n",
       "\\end{enumerate*}\n"
      ],
      "text/markdown": [
       "1. 9.177772088442\n",
       "2. 2.85861286101863\n",
       "3. 9.69297726172954\n",
       "4. 0.812022336758673\n",
       "5. 5.82745091058314\n",
       "\n",
       "\n"
      ],
      "text/plain": [
       "[1] 9.1777721 2.8586129 9.6929773 0.8120223 5.8274509"
      ]
     },
     "metadata": {},
     "output_type": "display_data"
    },
    {
     "data": {
      "text/html": [
       "<ol class=list-inline>\n",
       "\t<li>0.971391422906891</li>\n",
       "\t<li>0.464405017206445</li>\n",
       "\t<li>0.126575220609084</li>\n",
       "\t<li>0.516379363369197</li>\n",
       "\t<li>0.246702897362411</li>\n",
       "</ol>\n"
      ],
      "text/latex": [
       "\\begin{enumerate*}\n",
       "\\item 0.971391422906891\n",
       "\\item 0.464405017206445\n",
       "\\item 0.126575220609084\n",
       "\\item 0.516379363369197\n",
       "\\item 0.246702897362411\n",
       "\\end{enumerate*}\n"
      ],
      "text/markdown": [
       "1. 0.971391422906891\n",
       "2. 0.464405017206445\n",
       "3. 0.126575220609084\n",
       "4. 0.516379363369197\n",
       "5. 0.246702897362411\n",
       "\n",
       "\n"
      ],
      "text/plain": [
       "[1] 0.9713914 0.4644050 0.1265752 0.5163794 0.2467029"
      ]
     },
     "metadata": {},
     "output_type": "display_data"
    },
    {
     "data": {
      "text/html": [
       "<ol class=list-inline>\n",
       "\t<li>5.48658625455573</li>\n",
       "\t<li>8.68113809498027</li>\n",
       "\t<li>9.45102890953422</li>\n",
       "\t<li>0.133886369876564</li>\n",
       "\t<li>6.99625315377489</li>\n",
       "</ol>\n"
      ],
      "text/latex": [
       "\\begin{enumerate*}\n",
       "\\item 5.48658625455573\n",
       "\\item 8.68113809498027\n",
       "\\item 9.45102890953422\n",
       "\\item 0.133886369876564\n",
       "\\item 6.99625315377489\n",
       "\\end{enumerate*}\n"
      ],
      "text/markdown": [
       "1. 5.48658625455573\n",
       "2. 8.68113809498027\n",
       "3. 9.45102890953422\n",
       "4. 0.133886369876564\n",
       "5. 6.99625315377489\n",
       "\n",
       "\n"
      ],
      "text/plain": [
       "[1] 5.4865863 8.6811381 9.4510289 0.1338864 6.9962532"
      ]
     },
     "metadata": {},
     "output_type": "display_data"
    }
   ],
   "source": [
    "# Can you describe what this function does? what are its\n",
    "# arguments? what kind of data types does it expect?\n",
    "\n",
    "# Demonstrate different ways to call this function\n",
    "sample(5)\n",
    "\n",
    "F_inv_unif <- function(x, a, b) x*(b - a) + a\n",
    "sample(5, function(x) F_inv_unif(x, 0, 10))\n",
    "\n",
    "sample(n=5)\n",
    "\n",
    "sample(5, F_inv=function(x) F_inv_unif(x, 0, 10))"
   ]
  },
  {
   "cell_type": "code",
   "execution_count": 62,
   "metadata": {
    "collapsed": false
   },
   "outputs": [
    {
     "name": "stdout",
     "output_type": "stream",
     "text": [
      "[1] \"I'm local\"\n"
     ]
    }
   ],
   "source": [
    "# It is also important to keep in mind the name space\n",
    "# what is the namespace? it is the area where a variable lives\n",
    "# Global versus local\n",
    "\n",
    "f <- function(x){\n",
    "    func_var <- \"I'm local\"\n",
    "    print(func_var)\n",
    "}\n",
    "f(1.0)\n",
    "\n",
    "# what happens if you try to call the local variable?\n",
    "#func_var"
   ]
  },
  {
   "cell_type": "code",
   "execution_count": 63,
   "metadata": {
    "collapsed": false
   },
   "outputs": [
    {
     "name": "stdout",
     "output_type": "stream",
     "text": [
      "[1] \"Im global\"\n"
     ]
    }
   ],
   "source": [
    "# what if you define a variable outside of the function?\n",
    "\n",
    "glob_var <- \"Im global\"\n",
    "f <- function(x){\n",
    "    func_var <- \"Im local\"\n",
    "    print(glob_var)\n",
    "}\n",
    "f(1.0)\n"
   ]
  },
  {
   "cell_type": "code",
   "execution_count": 65,
   "metadata": {
    "collapsed": false
   },
   "outputs": [
    {
     "name": "stdout",
     "output_type": "stream",
     "text": [
      "[1] \"Im global\"\n",
      "[1] \"Im local\"\n",
      "[1] \"Im global\"\n"
     ]
    }
   ],
   "source": [
    "# why does this work? what happens if we try to change the\n",
    "# global variable?\n",
    "glob_var <- \"Im global\"\n",
    "print(glob_var)\n",
    "f <- function(x){\n",
    "    glob_var <- \"Im local\"\n",
    "    print(glob_var)\n",
    "}\n",
    "f(1.0)\n",
    "print(glob_var)"
   ]
  },
  {
   "cell_type": "code",
   "execution_count": 68,
   "metadata": {
    "collapsed": true
   },
   "outputs": [],
   "source": [
    "############################3\n",
    "# Nesting functions\n",
    "\n",
    "# any time you call a built in function inside a user function\n",
    "# you are essentially nesting functions\n",
    "\n",
    "# Let's use our random sample function inside of a function to\n",
    "# calculate the mean\n",
    "sample <- function(n, F_inv=function(x) x){\n",
    "    unif_sample <-  runif(n)\n",
    "    return(F_inv(unif_sample))\n",
    "}\n",
    "                   \n",
    "mc_mean <- function(n, F_inv=function(x) x){\n",
    "    X <- sample(n, F_inv=function(x) F_inv(x))\n",
    "    return(sum(X)/n)\n",
    "}"
   ]
  },
  {
   "cell_type": "code",
   "execution_count": 70,
   "metadata": {
    "collapsed": false
   },
   "outputs": [
    {
     "data": {
      "text/html": [
       "0.5069684474729"
      ],
      "text/latex": [
       "0.5069684474729"
      ],
      "text/markdown": [
       "0.5069684474729"
      ],
      "text/plain": [
       "[1] 0.5069684"
      ]
     },
     "metadata": {},
     "output_type": "display_data"
    },
    {
     "data": {
      "text/html": [
       "0.369936760910787"
      ],
      "text/latex": [
       "0.369936760910787"
      ],
      "text/markdown": [
       "0.369936760910787"
      ],
      "text/plain": [
       "[1] 0.3699368"
      ]
     },
     "metadata": {},
     "output_type": "display_data"
    },
    {
     "data": {
      "text/html": [
       "0.487616414194927"
      ],
      "text/latex": [
       "0.487616414194927"
      ],
      "text/markdown": [
       "0.487616414194927"
      ],
      "text/plain": [
       "[1] 0.4876164"
      ]
     },
     "metadata": {},
     "output_type": "display_data"
    }
   ],
   "source": [
    "mc_mean(1)\n",
    "mc_mean(10)\n",
    "mc_mean(100)"
   ]
  },
  {
   "cell_type": "code",
   "execution_count": 72,
   "metadata": {
    "collapsed": true
   },
   "outputs": [],
   "source": [
    "# Let's nest this again to the results for some vector of n's\n",
    "sample <- function(n, F_inv=function(x) x){\n",
    "    unif_sample <-  runif(n)\n",
    "    return(F_inv(unif_sample))\n",
    "}\n",
    "                   \n",
    "mc_mean <- function(n, F_inv=function(x) x){\n",
    "    X <- sample(n, F_inv=function(x) F_inv(x))\n",
    "    return(sum(X)/n)\n",
    "}\n",
    "\n",
    "plot_results <- function(n_vec, F_inv=function(x) x){\n",
    "    results <- rep(0, length(n_vec))\n",
    "    i <- 1\n",
    "    for(n in n_vec){\n",
    "        results[i] <- mc_mean(n)\n",
    "        i <- i + 1\n",
    "    }\n",
    "    plot(n_vec, results, type=\"l\")\n",
    "}"
   ]
  },
  {
   "cell_type": "code",
   "execution_count": 74,
   "metadata": {
    "collapsed": false
   },
   "outputs": [
    {
     "data": {
      "image/png": "[encoded data removed]",
      "image/svg+xml": [
       "<?xml version=\"1.0\" encoding=\"UTF-8\"?>\n",
       "<svg xmlns=\"http://www.w3.org/2000/svg\" xmlns:xlink=\"http://www.w3.org/1999/xlink\" width=\"504pt\" height=\"504pt\" viewBox=\"0 0 504 504\" version=\"1.1\">\n",
       "<defs>\n",
       "<g>\n",
       "<symbol overflow=\"visible\" id=\"glyph0-0\">\n",
       "<path style=\"stroke:none;\" d=\"\"/>\n",
       "</symbol>\n",
       "<symbol overflow=\"visible\" id=\"glyph0-1\">\n",
       "<path style=\"stroke:none;\" d=\"M 6.078125 -4.09375 C 6.078125 -7.046875 5.140625 -8.515625 3.296875 -8.515625 C 1.46875 -8.515625 0.515625 -7.015625 0.515625 -4.15625 C 0.515625 -1.296875 1.46875 0.1875 3.296875 0.1875 C 5.09375 0.1875 6.078125 -1.296875 6.078125 -4.09375 Z M 5 -4.1875 C 5 -1.78125 4.453125 -0.703125 3.28125 -0.703125 C 2.15625 -0.703125 1.59375 -1.828125 1.59375 -4.15625 C 1.59375 -6.484375 2.15625 -7.578125 3.296875 -7.578125 C 4.4375 -7.578125 5 -6.46875 5 -4.1875 Z \"/>\n",
       "</symbol>\n",
       "<symbol overflow=\"visible\" id=\"glyph0-2\">\n",
       "<path style=\"stroke:none;\" d=\"M 6.125 -6.015625 C 6.125 -7.453125 5.015625 -8.515625 3.40625 -8.515625 C 1.671875 -8.515625 0.65625 -7.625 0.59375 -5.5625 L 1.65625 -5.5625 C 1.734375 -6.984375 2.328125 -7.578125 3.375 -7.578125 C 4.328125 -7.578125 5.046875 -6.90625 5.046875 -5.984375 C 5.046875 -5.3125 4.65625 -4.734375 3.90625 -4.3125 L 2.796875 -3.6875 C 1.015625 -2.671875 0.5 -1.875 0.40625 0 L 6.078125 0 L 6.078125 -1.046875 L 1.59375 -1.046875 C 1.703125 -1.734375 2.09375 -2.1875 3.125 -2.796875 L 4.328125 -3.4375 C 5.515625 -4.078125 6.125 -4.96875 6.125 -6.015625 Z \"/>\n",
       "</symbol>\n",
       "<symbol overflow=\"visible\" id=\"glyph0-3\">\n",
       "<path style=\"stroke:none;\" d=\"M 6.234375 -2.046875 L 6.234375 -2.984375 L 4.984375 -2.984375 L 4.984375 -8.515625 L 4.203125 -8.515625 L 0.34375 -3.15625 L 0.34375 -2.046875 L 3.921875 -2.046875 L 3.921875 0 L 4.984375 0 L 4.984375 -2.046875 Z M 3.921875 -2.984375 L 1.265625 -2.984375 L 3.921875 -6.703125 Z \"/>\n",
       "</symbol>\n",
       "<symbol overflow=\"visible\" id=\"glyph0-4\">\n",
       "<path style=\"stroke:none;\" d=\"M 6.15625 -2.640625 C 6.15625 -4.21875 5.078125 -5.296875 3.546875 -5.296875 C 2.71875 -5.296875 2.046875 -4.96875 1.59375 -4.34375 C 1.609375 -6.421875 2.28125 -7.578125 3.484375 -7.578125 C 4.234375 -7.578125 4.75 -7.109375 4.921875 -6.28125 L 5.96875 -6.28125 C 5.765625 -7.6875 4.859375 -8.515625 3.5625 -8.515625 C 1.578125 -8.515625 0.515625 -6.84375 0.515625 -3.875 C 0.515625 -1.21875 1.421875 0.1875 3.375 0.1875 C 4.984375 0.1875 6.15625 -0.96875 6.15625 -2.640625 Z M 5.078125 -2.5625 C 5.078125 -1.484375 4.359375 -0.75 3.390625 -0.75 C 2.40625 -0.75 1.65625 -1.53125 1.65625 -2.609375 C 1.65625 -3.671875 2.375 -4.359375 3.421875 -4.359375 C 4.4375 -4.359375 5.078125 -3.703125 5.078125 -2.5625 Z \"/>\n",
       "</symbol>\n",
       "<symbol overflow=\"visible\" id=\"glyph0-5\">\n",
       "<path style=\"stroke:none;\" d=\"M 6.15625 -2.40625 C 6.15625 -3.34375 5.671875 -4.015625 4.6875 -4.46875 C 5.5625 -5 5.859375 -5.4375 5.859375 -6.234375 C 5.859375 -7.578125 4.8125 -8.515625 3.296875 -8.515625 C 1.796875 -8.515625 0.75 -7.578125 0.75 -6.234375 C 0.75 -5.453125 1.03125 -5.015625 1.890625 -4.46875 C 0.921875 -4.015625 0.4375 -3.34375 0.4375 -2.40625 C 0.4375 -0.859375 1.625 0.1875 3.296875 0.1875 C 4.984375 0.1875 6.15625 -0.859375 6.15625 -2.40625 Z M 4.78125 -6.21875 C 4.78125 -5.421875 4.1875 -4.890625 3.296875 -4.890625 C 2.40625 -4.890625 1.828125 -5.421875 1.828125 -6.234375 C 1.828125 -7.046875 2.40625 -7.578125 3.296875 -7.578125 C 4.203125 -7.578125 4.78125 -7.046875 4.78125 -6.21875 Z M 5.078125 -2.390625 C 5.078125 -1.375 4.359375 -0.75 3.28125 -0.75 C 2.25 -0.75 1.53125 -1.390625 1.53125 -2.390625 C 1.53125 -3.390625 2.25 -4.015625 3.296875 -4.015625 C 4.359375 -4.015625 5.078125 -3.390625 5.078125 -2.390625 Z \"/>\n",
       "</symbol>\n",
       "<symbol overflow=\"visible\" id=\"glyph0-6\">\n",
       "<path style=\"stroke:none;\" d=\"M 4.15625 0 L 4.15625 -8.515625 L 3.46875 -8.515625 C 3.09375 -7.203125 2.859375 -7.015625 1.21875 -6.8125 L 1.21875 -6.0625 L 3.109375 -6.0625 L 3.109375 0 Z \"/>\n",
       "</symbol>\n",
       "<symbol overflow=\"visible\" id=\"glyph0-7\">\n",
       "<path style=\"stroke:none;\" d=\"M 5.84375 0 L 5.84375 -4.75 C 5.84375 -5.796875 5.0625 -6.46875 3.859375 -6.46875 C 2.921875 -6.46875 2.3125 -6.109375 1.765625 -5.234375 L 1.765625 -6.28125 L 0.84375 -6.28125 L 0.84375 0 L 1.84375 0 L 1.84375 -3.46875 C 1.84375 -4.75 2.53125 -5.59375 3.546875 -5.59375 C 4.34375 -5.59375 4.84375 -5.109375 4.84375 -4.359375 L 4.84375 0 Z \"/>\n",
       "</symbol>\n",
       "<symbol overflow=\"visible\" id=\"glyph0-8\">\n",
       "<path style=\"stroke:none;\" d=\"M 6.9375 2.125 L 6.9375 1.53125 L -0.265625 1.53125 L -0.265625 2.125 Z \"/>\n",
       "</symbol>\n",
       "<symbol overflow=\"visible\" id=\"glyph0-9\">\n",
       "<path style=\"stroke:none;\" d=\"M 5.828125 -6.28125 L 4.703125 -6.28125 L 2.921875 -1.1875 L 1.25 -6.28125 L 0.125 -6.28125 L 2.328125 0 L 3.421875 0 Z \"/>\n",
       "</symbol>\n",
       "<symbol overflow=\"visible\" id=\"glyph0-10\">\n",
       "<path style=\"stroke:none;\" d=\"M 6.15625 -2.859375 C 6.15625 -3.765625 6.078125 -4.34375 5.90625 -4.8125 C 5.5 -5.84375 4.53125 -6.46875 3.359375 -6.46875 C 1.609375 -6.46875 0.484375 -5.171875 0.484375 -3.109375 C 0.484375 -1.046875 1.578125 0.1875 3.34375 0.1875 C 4.78125 0.1875 5.765625 -0.640625 6.03125 -1.90625 L 5.015625 -1.90625 C 4.734375 -1.078125 4.171875 -0.75 3.375 -0.75 C 2.328125 -0.75 1.546875 -1.421875 1.53125 -2.859375 Z M 5.09375 -3.75 C 5.09375 -3.75 5.09375 -3.703125 5.078125 -3.671875 L 1.546875 -3.671875 C 1.625 -4.78125 2.34375 -5.546875 3.34375 -5.546875 C 4.328125 -5.546875 5.09375 -4.734375 5.09375 -3.75 Z \"/>\n",
       "</symbol>\n",
       "<symbol overflow=\"visible\" id=\"glyph0-11\">\n",
       "<path style=\"stroke:none;\" d=\"M 5.71875 -2.15625 L 4.71875 -2.15625 C 4.546875 -1.15625 4.03125 -0.75 3.1875 -0.75 C 2.078125 -0.75 1.421875 -1.59375 1.421875 -3.078125 C 1.421875 -4.65625 2.0625 -5.546875 3.15625 -5.546875 C 4 -5.546875 4.53125 -5.046875 4.640625 -4.171875 L 5.65625 -4.171875 C 5.53125 -5.71875 4.578125 -6.46875 3.171875 -6.46875 C 1.46875 -6.46875 0.375 -5.171875 0.375 -3.078125 C 0.375 -1.0625 1.453125 0.1875 3.15625 0.1875 C 4.65625 0.1875 5.609375 -0.71875 5.71875 -2.15625 Z \"/>\n",
       "</symbol>\n",
       "<symbol overflow=\"visible\" id=\"glyph1-0\">\n",
       "<path style=\"stroke:none;\" d=\"\"/>\n",
       "</symbol>\n",
       "<symbol overflow=\"visible\" id=\"glyph1-1\">\n",
       "<path style=\"stroke:none;\" d=\"M -4.09375 -6.078125 C -7.046875 -6.078125 -8.515625 -5.140625 -8.515625 -3.296875 C -8.515625 -1.46875 -7.015625 -0.515625 -4.15625 -0.515625 C -1.296875 -0.515625 0.1875 -1.46875 0.1875 -3.296875 C 0.1875 -5.09375 -1.296875 -6.078125 -4.09375 -6.078125 Z M -4.1875 -5 C -1.78125 -5 -0.703125 -4.453125 -0.703125 -3.28125 C -0.703125 -2.15625 -1.828125 -1.59375 -4.15625 -1.59375 C -6.484375 -1.59375 -7.578125 -2.15625 -7.578125 -3.296875 C -7.578125 -4.4375 -6.46875 -5 -4.1875 -5 Z \"/>\n",
       "</symbol>\n",
       "<symbol overflow=\"visible\" id=\"glyph1-2\">\n",
       "<path style=\"stroke:none;\" d=\"M 0 -2.296875 L -1.25 -2.296875 L -1.25 -1.046875 L 0 -1.046875 Z \"/>\n",
       "</symbol>\n",
       "<symbol overflow=\"visible\" id=\"glyph1-3\">\n",
       "<path style=\"stroke:none;\" d=\"M -2.046875 -6.234375 L -2.984375 -6.234375 L -2.984375 -4.984375 L -8.515625 -4.984375 L -8.515625 -4.203125 L -3.15625 -0.34375 L -2.046875 -0.34375 L -2.046875 -3.921875 L 0 -3.921875 L 0 -4.984375 L -2.046875 -4.984375 Z M -2.984375 -3.921875 L -2.984375 -1.265625 L -6.703125 -3.921875 Z \"/>\n",
       "</symbol>\n",
       "<symbol overflow=\"visible\" id=\"glyph1-4\">\n",
       "<path style=\"stroke:none;\" d=\"M -2.640625 -6.15625 C -4.21875 -6.15625 -5.296875 -5.078125 -5.296875 -3.546875 C -5.296875 -2.71875 -4.96875 -2.046875 -4.34375 -1.59375 C -6.421875 -1.609375 -7.578125 -2.28125 -7.578125 -3.484375 C -7.578125 -4.234375 -7.109375 -4.75 -6.28125 -4.921875 L -6.28125 -5.96875 C -7.6875 -5.765625 -8.515625 -4.859375 -8.515625 -3.5625 C -8.515625 -1.578125 -6.84375 -0.515625 -3.875 -0.515625 C -1.21875 -0.515625 0.1875 -1.421875 0.1875 -3.375 C 0.1875 -4.984375 -0.96875 -6.15625 -2.640625 -6.15625 Z M -2.5625 -5.078125 C -1.484375 -5.078125 -0.75 -4.359375 -0.75 -3.390625 C -0.75 -2.40625 -1.53125 -1.65625 -2.609375 -1.65625 C -3.671875 -1.65625 -4.359375 -2.375 -4.359375 -3.421875 C -4.359375 -4.4375 -3.703125 -5.078125 -2.5625 -5.078125 Z \"/>\n",
       "</symbol>\n",
       "<symbol overflow=\"visible\" id=\"glyph1-5\">\n",
       "<path style=\"stroke:none;\" d=\"M -7.4375 -6.234375 L -8.328125 -6.234375 L -8.328125 -0.546875 L -7.28125 -0.546875 L -7.28125 -5.140625 C -5.140625 -3.453125 -2.65625 -2.25 0 -1.65625 L 0 -2.78125 C -2.75 -3.25 -5.3125 -4.453125 -7.4375 -6.234375 Z \"/>\n",
       "</symbol>\n",
       "<symbol overflow=\"visible\" id=\"glyph1-6\">\n",
       "<path style=\"stroke:none;\" d=\"M -2.40625 -6.15625 C -3.34375 -6.15625 -4.015625 -5.671875 -4.46875 -4.6875 C -5 -5.5625 -5.4375 -5.859375 -6.234375 -5.859375 C -7.578125 -5.859375 -8.515625 -4.8125 -8.515625 -3.296875 C -8.515625 -1.796875 -7.578125 -0.75 -6.234375 -0.75 C -5.453125 -0.75 -5.015625 -1.03125 -4.46875 -1.890625 C -4.015625 -0.921875 -3.34375 -0.4375 -2.40625 -0.4375 C -0.859375 -0.4375 0.1875 -1.625 0.1875 -3.296875 C 0.1875 -4.984375 -0.859375 -6.15625 -2.40625 -6.15625 Z M -6.21875 -4.78125 C -5.421875 -4.78125 -4.890625 -4.1875 -4.890625 -3.296875 C -4.890625 -2.40625 -5.421875 -1.828125 -6.234375 -1.828125 C -7.046875 -1.828125 -7.578125 -2.40625 -7.578125 -3.296875 C -7.578125 -4.203125 -7.046875 -4.78125 -6.21875 -4.78125 Z M -2.390625 -5.078125 C -1.375 -5.078125 -0.75 -4.359375 -0.75 -3.28125 C -0.75 -2.25 -1.390625 -1.53125 -2.390625 -1.53125 C -3.390625 -1.53125 -4.015625 -2.25 -4.015625 -3.296875 C -4.015625 -4.359375 -3.390625 -5.078125 -2.390625 -5.078125 Z \"/>\n",
       "</symbol>\n",
       "<symbol overflow=\"visible\" id=\"glyph1-7\">\n",
       "<path style=\"stroke:none;\" d=\"M -4.453125 -6.109375 C -7.109375 -6.109375 -8.515625 -5.1875 -8.515625 -3.234375 C -8.515625 -1.625 -7.359375 -0.453125 -5.6875 -0.453125 C -4.109375 -0.453125 -3.03125 -1.53125 -3.03125 -3.078125 C -3.03125 -3.875 -3.328125 -4.46875 -3.984375 -5.015625 C -1.90625 -5 -0.75 -4.328125 -0.75 -3.125 C -0.75 -2.375 -1.21875 -1.859375 -2.046875 -1.6875 L -2.046875 -0.640625 C -0.640625 -0.84375 0.1875 -1.75 0.1875 -3.046875 C 0.1875 -5.046875 -1.515625 -6.109375 -4.453125 -6.109375 Z M -5.71875 -4.953125 C -4.671875 -4.953125 -3.96875 -4.21875 -3.96875 -3.1875 C -3.96875 -2.171875 -4.625 -1.53125 -5.765625 -1.53125 C -6.859375 -1.53125 -7.578125 -2.25 -7.578125 -3.234375 C -7.578125 -4.21875 -6.8125 -4.953125 -5.71875 -4.953125 Z \"/>\n",
       "</symbol>\n",
       "<symbol overflow=\"visible\" id=\"glyph1-8\">\n",
       "<path style=\"stroke:none;\" d=\"M -2.8125 -6.15625 C -4.5 -6.15625 -5.609375 -5.046875 -5.609375 -3.40625 C -5.609375 -2.8125 -5.453125 -2.328125 -5.09375 -1.84375 L -7.28125 -2.171875 L -7.28125 -5.71875 L -8.328125 -5.71875 L -8.328125 -1.3125 L -3.875 -0.6875 L -3.875 -1.65625 C -4.46875 -2.140625 -4.671875 -2.5625 -4.671875 -3.21875 C -4.671875 -4.359375 -3.9375 -5.078125 -2.671875 -5.078125 C -1.453125 -5.078125 -0.75 -4.375 -0.75 -3.21875 C -0.75 -2.296875 -1.21875 -1.734375 -2.1875 -1.46875 L -2.1875 -0.421875 C -0.484375 -0.765625 0.1875 -1.734375 0.1875 -3.234375 C 0.1875 -4.953125 -1.015625 -6.15625 -2.8125 -6.15625 Z \"/>\n",
       "</symbol>\n",
       "<symbol overflow=\"visible\" id=\"glyph1-9\">\n",
       "<path style=\"stroke:none;\" d=\"M 0 -4.15625 L -8.515625 -4.15625 L -8.515625 -3.46875 C -7.203125 -3.09375 -7.015625 -2.859375 -6.8125 -1.21875 L -6.0625 -1.21875 L -6.0625 -3.109375 L 0 -3.109375 Z \"/>\n",
       "</symbol>\n",
       "<symbol overflow=\"visible\" id=\"glyph1-10\">\n",
       "<path style=\"stroke:none;\" d=\"M -5.40625 -3.859375 L -6.4375 -3.859375 C -6.453125 -3.6875 -6.46875 -3.59375 -6.46875 -3.46875 C -6.46875 -2.8125 -6.078125 -2.328125 -5.140625 -1.75 L -6.28125 -1.75 L -6.28125 -0.84375 L 0 -0.84375 L 0 -1.84375 L -3.265625 -1.84375 C -4.6875 -1.84375 -5.390625 -2.296875 -5.40625 -3.859375 Z \"/>\n",
       "</symbol>\n",
       "<symbol overflow=\"visible\" id=\"glyph1-11\">\n",
       "<path style=\"stroke:none;\" d=\"M -2.859375 -6.15625 C -3.765625 -6.15625 -4.34375 -6.078125 -4.8125 -5.90625 C -5.84375 -5.5 -6.46875 -4.53125 -6.46875 -3.359375 C -6.46875 -1.609375 -5.171875 -0.484375 -3.109375 -0.484375 C -1.046875 -0.484375 0.1875 -1.578125 0.1875 -3.34375 C 0.1875 -4.78125 -0.640625 -5.765625 -1.90625 -6.03125 L -1.90625 -5.015625 C -1.078125 -4.734375 -0.75 -4.171875 -0.75 -3.375 C -0.75 -2.328125 -1.421875 -1.546875 -2.859375 -1.53125 Z M -3.75 -5.09375 C -3.75 -5.09375 -3.703125 -5.09375 -3.671875 -5.078125 L -3.671875 -1.546875 C -4.78125 -1.625 -5.546875 -2.34375 -5.546875 -3.34375 C -5.546875 -4.328125 -4.734375 -5.09375 -3.75 -5.09375 Z \"/>\n",
       "</symbol>\n",
       "<symbol overflow=\"visible\" id=\"glyph1-12\">\n",
       "<path style=\"stroke:none;\" d=\"M -1.765625 -5.515625 C -2.703125 -5.515625 -3.171875 -4.984375 -3.46875 -3.734375 L -3.703125 -2.765625 C -3.890625 -1.953125 -4.15625 -1.609375 -4.59375 -1.609375 C -5.171875 -1.609375 -5.546875 -2.125 -5.546875 -2.9375 C -5.546875 -3.75 -5.203125 -4.171875 -4.53125 -4.203125 L -4.53125 -5.25 C -5.765625 -5.25 -6.46875 -4.421875 -6.46875 -2.96875 C -6.46875 -1.515625 -5.71875 -0.5625 -4.546875 -0.5625 C -3.5625 -0.5625 -3.09375 -1.0625 -2.734375 -2.5625 L -2.515625 -3.484375 C -2.34375 -4.1875 -2.140625 -4.46875 -1.6875 -4.46875 C -1.09375 -4.46875 -0.75 -3.875 -0.75 -3 C -0.75 -2.09375 -0.953125 -1.59375 -1.921875 -1.46875 L -1.921875 -0.40625 C -0.46875 -0.453125 0.1875 -1.265625 0.1875 -2.921875 C 0.1875 -4.5 -0.546875 -5.515625 -1.765625 -5.515625 Z \"/>\n",
       "</symbol>\n",
       "<symbol overflow=\"visible\" id=\"glyph1-13\">\n",
       "<path style=\"stroke:none;\" d=\"M 0 -5.78125 L -6.28125 -5.78125 L -6.28125 -4.78125 L -2.8125 -4.78125 C -1.53125 -4.78125 -0.703125 -4.109375 -0.703125 -3.078125 C -0.703125 -2.28125 -1.171875 -1.78125 -1.9375 -1.78125 L -6.28125 -1.78125 L -6.28125 -0.78125 L -1.53125 -0.78125 C -0.484375 -0.78125 0.1875 -1.5625 0.1875 -2.78125 C 0.1875 -3.703125 -0.140625 -4.296875 -0.96875 -4.890625 L 0 -4.890625 Z \"/>\n",
       "</symbol>\n",
       "<symbol overflow=\"visible\" id=\"glyph1-14\">\n",
       "<path style=\"stroke:none;\" d=\"M 0 -1.8125 L -8.75 -1.8125 L -8.75 -0.8125 L 0 -0.8125 Z \"/>\n",
       "</symbol>\n",
       "<symbol overflow=\"visible\" id=\"glyph1-15\">\n",
       "<path style=\"stroke:none;\" d=\"M 0 -3.046875 L -0.84375 -3.046875 C -0.796875 -2.921875 -0.796875 -2.765625 -0.796875 -2.5625 C -0.796875 -2.140625 -0.90625 -2.015625 -1.359375 -2.015625 L -5.46875 -2.015625 L -5.46875 -3.046875 L -6.28125 -3.046875 L -6.28125 -2.015625 L -8.015625 -2.015625 L -8.015625 -1.015625 L -6.28125 -1.015625 L -6.28125 -0.171875 L -5.46875 -0.171875 L -5.46875 -1.015625 L -0.90625 -1.015625 C -0.28125 -1.015625 0.078125 -1.453125 0.078125 -2.234375 C 0.078125 -2.46875 0.0625 -2.71875 0 -3.046875 Z \"/>\n",
       "</symbol>\n",
       "</g>\n",
       "</defs>\n",
       "<g id=\"surface63\">\n",
       "<rect x=\"0\" y=\"0\" width=\"504\" height=\"504\" style=\"fill:rgb(100%,100%,100%);fill-opacity:1;stroke:none;\"/>\n",
       "<path style=\"fill:none;stroke-width:0.75;stroke-linecap:round;stroke-linejoin:round;stroke:rgb(0%,0%,0%);stroke-opacity:1;stroke-miterlimit:10;\" d=\"M 78.238281 416.800781 L 82.078125 177.363281 L 85.921875 143.878906 L 89.761719 121.703125 L 93.601562 120.5625 L 97.441406 189.828125 L 101.28125 126.320312 L 105.121094 203.066406 L 108.960938 176.121094 L 112.800781 72.800781 L 116.640625 154.527344 L 120.480469 164.90625 L 124.320312 207.199219 L 128.160156 133.09375 L 132 127.257812 L 135.839844 117.78125 L 139.679688 131.269531 L 143.519531 138.636719 L 147.359375 176.859375 L 151.199219 98.28125 L 155.039062 134.171875 L 158.878906 180.441406 L 162.71875 179.960938 L 166.558594 186.65625 L 170.398438 190.121094 L 174.238281 120.652344 L 178.078125 172.152344 L 181.921875 136.503906 L 185.761719 176.429688 L 189.601562 149.359375 L 193.441406 181.535156 L 197.28125 133.378906 L 201.121094 135.578125 L 204.960938 119.789062 L 208.800781 158.25 L 212.640625 121.03125 L 216.480469 100.78125 L 220.320312 127.796875 L 224.160156 140.160156 L 228 134.113281 L 231.839844 133.558594 L 235.679688 117.640625 L 239.519531 118.828125 L 243.359375 142.863281 L 247.199219 139.855469 L 251.039062 142.347656 L 254.878906 148.527344 L 258.71875 146.515625 L 262.558594 170.109375 L 266.398438 148.839844 L 270.238281 187.964844 L 274.078125 103.152344 L 277.921875 123.242188 L 281.761719 127.402344 L 285.601562 132.34375 L 289.441406 107.605469 L 293.28125 169.445312 L 297.121094 144.222656 L 300.960938 139.367188 L 304.800781 162.492188 L 308.640625 85.8125 L 312.480469 159.085938 L 316.320312 128.316406 L 320.160156 154.84375 L 324 174.121094 L 327.839844 150.316406 L 331.679688 116.277344 L 335.519531 141.980469 L 339.359375 149.234375 L 343.199219 163.6875 L 347.039062 148.941406 L 350.878906 125 L 354.71875 166.054688 L 358.558594 129.734375 L 362.398438 147.917969 L 366.238281 121.3125 L 370.078125 126.671875 L 373.921875 147.929688 L 377.761719 153.03125 L 381.601562 127.597656 L 385.441406 127.070312 L 389.28125 141.949219 L 393.121094 137.742188 L 396.960938 114.632812 L 400.800781 157.0625 L 404.640625 123.617188 L 408.480469 150.003906 L 412.320312 136.585938 L 416.160156 168.425781 L 420 155.914062 L 423.839844 137.488281 L 427.679688 170.855469 L 431.519531 122.804688 L 435.359375 128.847656 L 439.199219 122.835938 L 443.039062 140.960938 L 446.878906 129.671875 L 450.71875 143.558594 L 454.558594 167.195312 L 458.398438 181.007812 \"/>\n",
       "<path style=\"fill:none;stroke-width:0.75;stroke-linecap:round;stroke-linejoin:round;stroke:rgb(0%,0%,0%);stroke-opacity:1;stroke-miterlimit:10;\" d=\"M 74.398438 430.558594 L 458.398438 430.558594 \"/>\n",
       "<path style=\"fill:none;stroke-width:0.75;stroke-linecap:round;stroke-linejoin:round;stroke:rgb(0%,0%,0%);stroke-opacity:1;stroke-miterlimit:10;\" d=\"M 74.398438 430.558594 L 74.398438 437.761719 \"/>\n",
       "<path style=\"fill:none;stroke-width:0.75;stroke-linecap:round;stroke-linejoin:round;stroke:rgb(0%,0%,0%);stroke-opacity:1;stroke-miterlimit:10;\" d=\"M 151.199219 430.558594 L 151.199219 437.761719 \"/>\n",
       "<path style=\"fill:none;stroke-width:0.75;stroke-linecap:round;stroke-linejoin:round;stroke:rgb(0%,0%,0%);stroke-opacity:1;stroke-miterlimit:10;\" d=\"M 228 430.558594 L 228 437.761719 \"/>\n",
       "<path style=\"fill:none;stroke-width:0.75;stroke-linecap:round;stroke-linejoin:round;stroke:rgb(0%,0%,0%);stroke-opacity:1;stroke-miterlimit:10;\" d=\"M 304.800781 430.558594 L 304.800781 437.761719 \"/>\n",
       "<path style=\"fill:none;stroke-width:0.75;stroke-linecap:round;stroke-linejoin:round;stroke:rgb(0%,0%,0%);stroke-opacity:1;stroke-miterlimit:10;\" d=\"M 381.601562 430.558594 L 381.601562 437.761719 \"/>\n",
       "<path style=\"fill:none;stroke-width:0.75;stroke-linecap:round;stroke-linejoin:round;stroke:rgb(0%,0%,0%);stroke-opacity:1;stroke-miterlimit:10;\" d=\"M 458.398438 430.558594 L 458.398438 437.761719 \"/>\n",
       "<g style=\"fill:rgb(0%,0%,0%);fill-opacity:1;\">\n",
       "  <use xlink:href=\"#glyph0-1\" x=\"70.898438\" y=\"456.256836\"/>\n",
       "</g>\n",
       "<g style=\"fill:rgb(0%,0%,0%);fill-opacity:1;\">\n",
       "  <use xlink:href=\"#glyph0-2\" x=\"137.699219\" y=\"456.256836\"/>\n",
       "  <use xlink:href=\"#glyph0-1\" x=\"144.371094\" y=\"456.256836\"/>\n",
       "  <use xlink:href=\"#glyph0-1\" x=\"151.042969\" y=\"456.256836\"/>\n",
       "  <use xlink:href=\"#glyph0-1\" x=\"157.714844\" y=\"456.256836\"/>\n",
       "</g>\n",
       "<g style=\"fill:rgb(0%,0%,0%);fill-opacity:1;\">\n",
       "  <use xlink:href=\"#glyph0-3\" x=\"214.5\" y=\"456.256836\"/>\n",
       "  <use xlink:href=\"#glyph0-1\" x=\"221.171875\" y=\"456.256836\"/>\n",
       "  <use xlink:href=\"#glyph0-1\" x=\"227.84375\" y=\"456.256836\"/>\n",
       "  <use xlink:href=\"#glyph0-1\" x=\"234.515625\" y=\"456.256836\"/>\n",
       "</g>\n",
       "<g style=\"fill:rgb(0%,0%,0%);fill-opacity:1;\">\n",
       "  <use xlink:href=\"#glyph0-4\" x=\"291.300781\" y=\"456.256836\"/>\n",
       "  <use xlink:href=\"#glyph0-1\" x=\"297.972656\" y=\"456.256836\"/>\n",
       "  <use xlink:href=\"#glyph0-1\" x=\"304.644531\" y=\"456.256836\"/>\n",
       "  <use xlink:href=\"#glyph0-1\" x=\"311.316406\" y=\"456.256836\"/>\n",
       "</g>\n",
       "<g style=\"fill:rgb(0%,0%,0%);fill-opacity:1;\">\n",
       "  <use xlink:href=\"#glyph0-5\" x=\"368.101562\" y=\"456.256836\"/>\n",
       "  <use xlink:href=\"#glyph0-1\" x=\"374.773438\" y=\"456.256836\"/>\n",
       "  <use xlink:href=\"#glyph0-1\" x=\"381.445312\" y=\"456.256836\"/>\n",
       "  <use xlink:href=\"#glyph0-1\" x=\"388.117188\" y=\"456.256836\"/>\n",
       "</g>\n",
       "<g style=\"fill:rgb(0%,0%,0%);fill-opacity:1;\">\n",
       "  <use xlink:href=\"#glyph0-6\" x=\"441.398438\" y=\"456.256836\"/>\n",
       "  <use xlink:href=\"#glyph0-1\" x=\"448.070312\" y=\"456.256836\"/>\n",
       "  <use xlink:href=\"#glyph0-1\" x=\"454.742188\" y=\"456.256836\"/>\n",
       "  <use xlink:href=\"#glyph0-1\" x=\"461.414062\" y=\"456.256836\"/>\n",
       "  <use xlink:href=\"#glyph0-1\" x=\"468.085938\" y=\"456.256836\"/>\n",
       "</g>\n",
       "<path style=\"fill:none;stroke-width:0.75;stroke-linecap:round;stroke-linejoin:round;stroke:rgb(0%,0%,0%);stroke-opacity:1;stroke-miterlimit:10;\" d=\"M 59.039062 379.550781 L 59.039062 85.765625 \"/>\n",
       "<path style=\"fill:none;stroke-width:0.75;stroke-linecap:round;stroke-linejoin:round;stroke:rgb(0%,0%,0%);stroke-opacity:1;stroke-miterlimit:10;\" d=\"M 59.039062 379.550781 L 51.839844 379.550781 \"/>\n",
       "<path style=\"fill:none;stroke-width:0.75;stroke-linecap:round;stroke-linejoin:round;stroke:rgb(0%,0%,0%);stroke-opacity:1;stroke-miterlimit:10;\" d=\"M 59.039062 320.792969 L 51.839844 320.792969 \"/>\n",
       "<path style=\"fill:none;stroke-width:0.75;stroke-linecap:round;stroke-linejoin:round;stroke:rgb(0%,0%,0%);stroke-opacity:1;stroke-miterlimit:10;\" d=\"M 59.039062 262.035156 L 51.839844 262.035156 \"/>\n",
       "<path style=\"fill:none;stroke-width:0.75;stroke-linecap:round;stroke-linejoin:round;stroke:rgb(0%,0%,0%);stroke-opacity:1;stroke-miterlimit:10;\" d=\"M 59.039062 203.28125 L 51.839844 203.28125 \"/>\n",
       "<path style=\"fill:none;stroke-width:0.75;stroke-linecap:round;stroke-linejoin:round;stroke:rgb(0%,0%,0%);stroke-opacity:1;stroke-miterlimit:10;\" d=\"M 59.039062 144.523438 L 51.839844 144.523438 \"/>\n",
       "<path style=\"fill:none;stroke-width:0.75;stroke-linecap:round;stroke-linejoin:round;stroke:rgb(0%,0%,0%);stroke-opacity:1;stroke-miterlimit:10;\" d=\"M 59.039062 85.765625 L 51.839844 85.765625 \"/>\n",
       "<g style=\"fill:rgb(0%,0%,0%);fill-opacity:1;\">\n",
       "  <use xlink:href=\"#glyph1-1\" x=\"41.538086\" y=\"391.550781\"/>\n",
       "  <use xlink:href=\"#glyph1-2\" x=\"41.538086\" y=\"384.878906\"/>\n",
       "  <use xlink:href=\"#glyph1-3\" x=\"41.538086\" y=\"381.542969\"/>\n",
       "  <use xlink:href=\"#glyph1-4\" x=\"41.538086\" y=\"374.871094\"/>\n",
       "</g>\n",
       "<g style=\"fill:rgb(0%,0%,0%);fill-opacity:1;\">\n",
       "  <use xlink:href=\"#glyph1-1\" x=\"41.538086\" y=\"332.792969\"/>\n",
       "  <use xlink:href=\"#glyph1-2\" x=\"41.538086\" y=\"326.121094\"/>\n",
       "  <use xlink:href=\"#glyph1-3\" x=\"41.538086\" y=\"322.785156\"/>\n",
       "  <use xlink:href=\"#glyph1-5\" x=\"41.538086\" y=\"316.113281\"/>\n",
       "</g>\n",
       "<g style=\"fill:rgb(0%,0%,0%);fill-opacity:1;\">\n",
       "  <use xlink:href=\"#glyph1-1\" x=\"41.538086\" y=\"274.035156\"/>\n",
       "  <use xlink:href=\"#glyph1-2\" x=\"41.538086\" y=\"267.363281\"/>\n",
       "  <use xlink:href=\"#glyph1-3\" x=\"41.538086\" y=\"264.027344\"/>\n",
       "  <use xlink:href=\"#glyph1-6\" x=\"41.538086\" y=\"257.355469\"/>\n",
       "</g>\n",
       "<g style=\"fill:rgb(0%,0%,0%);fill-opacity:1;\">\n",
       "  <use xlink:href=\"#glyph1-1\" x=\"41.538086\" y=\"215.28125\"/>\n",
       "  <use xlink:href=\"#glyph1-2\" x=\"41.538086\" y=\"208.609375\"/>\n",
       "  <use xlink:href=\"#glyph1-3\" x=\"41.538086\" y=\"205.273438\"/>\n",
       "  <use xlink:href=\"#glyph1-7\" x=\"41.538086\" y=\"198.601562\"/>\n",
       "</g>\n",
       "<g style=\"fill:rgb(0%,0%,0%);fill-opacity:1;\">\n",
       "  <use xlink:href=\"#glyph1-1\" x=\"41.538086\" y=\"156.523438\"/>\n",
       "  <use xlink:href=\"#glyph1-2\" x=\"41.538086\" y=\"149.851562\"/>\n",
       "  <use xlink:href=\"#glyph1-8\" x=\"41.538086\" y=\"146.515625\"/>\n",
       "  <use xlink:href=\"#glyph1-1\" x=\"41.538086\" y=\"139.84375\"/>\n",
       "</g>\n",
       "<g style=\"fill:rgb(0%,0%,0%);fill-opacity:1;\">\n",
       "  <use xlink:href=\"#glyph1-1\" x=\"41.538086\" y=\"97.765625\"/>\n",
       "  <use xlink:href=\"#glyph1-2\" x=\"41.538086\" y=\"91.09375\"/>\n",
       "  <use xlink:href=\"#glyph1-8\" x=\"41.538086\" y=\"87.757812\"/>\n",
       "  <use xlink:href=\"#glyph1-9\" x=\"41.538086\" y=\"81.085938\"/>\n",
       "</g>\n",
       "<path style=\"fill:none;stroke-width:0.75;stroke-linecap:round;stroke-linejoin:round;stroke:rgb(0%,0%,0%);stroke-opacity:1;stroke-miterlimit:10;\" d=\"M 59.039062 430.558594 L 473.761719 430.558594 L 473.761719 59.039062 L 59.039062 59.039062 L 59.039062 430.558594 \"/>\n",
       "<g style=\"fill:rgb(0%,0%,0%);fill-opacity:1;\">\n",
       "  <use xlink:href=\"#glyph0-7\" x=\"249.898438\" y=\"485.057617\"/>\n",
       "  <use xlink:href=\"#glyph0-8\" x=\"256.570312\" y=\"485.057617\"/>\n",
       "  <use xlink:href=\"#glyph0-9\" x=\"263.242188\" y=\"485.057617\"/>\n",
       "  <use xlink:href=\"#glyph0-10\" x=\"269.242188\" y=\"485.057617\"/>\n",
       "  <use xlink:href=\"#glyph0-11\" x=\"275.914062\" y=\"485.057617\"/>\n",
       "</g>\n",
       "<g style=\"fill:rgb(0%,0%,0%);fill-opacity:1;\">\n",
       "  <use xlink:href=\"#glyph1-10\" x=\"12.737305\" y=\"262.800781\"/>\n",
       "  <use xlink:href=\"#glyph1-11\" x=\"12.737305\" y=\"258.804688\"/>\n",
       "  <use xlink:href=\"#glyph1-12\" x=\"12.737305\" y=\"252.132812\"/>\n",
       "  <use xlink:href=\"#glyph1-13\" x=\"12.737305\" y=\"246.132812\"/>\n",
       "  <use xlink:href=\"#glyph1-14\" x=\"12.737305\" y=\"239.460938\"/>\n",
       "  <use xlink:href=\"#glyph1-15\" x=\"12.737305\" y=\"236.796875\"/>\n",
       "  <use xlink:href=\"#glyph1-12\" x=\"12.737305\" y=\"233.460938\"/>\n",
       "</g>\n",
       "</g>\n",
       "</svg>\n"
      ],
      "text/plain": [
       "plot without title"
      ]
     },
     "metadata": {
      "image/svg+xml": {
       "isolated": true
      }
     },
     "output_type": "display_data"
    }
   ],
   "source": [
    "N <- seq(0, 10000, 100)\n",
    "plot_results(N)"
   ]
  },
  {
   "cell_type": "code",
   "execution_count": 75,
   "metadata": {
    "collapsed": true
   },
   "outputs": [],
   "source": [
    "###########################\n",
    "# That's it! we've done it!"
   ]
  }
 ],
 "metadata": {
  "kernelspec": {
   "display_name": "R",
   "language": "R",
   "name": "ir"
  },
  "language_info": {
   "codemirror_mode": "r",
   "file_extension": ".r",
   "mimetype": "text/x-r-source",
   "name": "R",
   "pygments_lexer": "r",
   "version": "3.3.1"
  }
 },
 "nbformat": 4,
 "nbformat_minor": 0
}
