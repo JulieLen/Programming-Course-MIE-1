{
 "cells": [
  {
   "cell_type": "code",
   "execution_count": 1,
   "metadata": {
    "collapsed": false
   },
   "outputs": [
    {
     "data": {
      "text/html": [
       "0.497565406374633"
      ],
      "text/latex": [
       "0.497565406374633"
      ],
      "text/markdown": [
       "0.497565406374633"
      ],
      "text/plain": [
       "[1] 0.4975654"
      ]
     },
     "metadata": {},
     "output_type": "display_data"
    }
   ],
   "source": [
    "runif(1)"
   ]
  },
  {
   "cell_type": "code",
   "execution_count": 2,
   "metadata": {
    "collapsed": false
   },
   "outputs": [
    {
     "data": {
      "text/html": [
       "2"
      ],
      "text/latex": [
       "2"
      ],
      "text/markdown": [
       "2"
      ],
      "text/plain": [
       "[1] 2"
      ]
     },
     "metadata": {},
     "output_type": "display_data"
    }
   ],
   "source": [
    "1 + 1"
   ]
  },
  {
   "cell_type": "code",
   "execution_count": 3,
   "metadata": {
    "collapsed": true
   },
   "outputs": [],
   "source": [
    "my_add <- function(a, b){\n",
    "    return(a + b)\n",
    "}\n"
   ]
  },
  {
   "cell_type": "code",
   "execution_count": 4,
   "metadata": {
    "collapsed": false
   },
   "outputs": [
    {
     "data": {
      "text/html": [
       "2"
      ],
      "text/latex": [
       "2"
      ],
      "text/markdown": [
       "2"
      ],
      "text/plain": [
       "[1] 2"
      ]
     },
     "metadata": {},
     "output_type": "display_data"
    }
   ],
   "source": [
    "my_add(1, 1)"
   ]
  },
  {
   "cell_type": "code",
   "execution_count": 5,
   "metadata": {
    "collapsed": false
   },
   "outputs": [
    {
     "data": {
      "text/html": [
       "1"
      ],
      "text/latex": [
       "1"
      ],
      "text/markdown": [
       "1"
      ],
      "text/plain": [
       "[1] 1"
      ]
     },
     "metadata": {},
     "output_type": "display_data"
    }
   ],
   "source": [
    "whereis <- function(pattern, word){\n",
    "    # Describe\n",
    "    # Inputs\n",
    "    # Outputs\n",
    "    return(grep(pattern, word))\n",
    "}\n",
    "whereis('I', 'Im lost')"
   ]
  },
  {
   "cell_type": "code",
   "execution_count": null,
   "metadata": {
    "collapsed": true
   },
   "outputs": [],
   "source": [
    "\n",
    "whereis <- function(pattern, word){\n",
    "    # Describe\n",
    "    # Inputs\n",
    "    # Outputs\n",
    "    return(grep(pattern, word))\n",
    "}\n"
   ]
  },
  {
   "cell_type": "code",
   "execution_count": 7,
   "metadata": {
    "collapsed": false
   },
   "outputs": [
    {
     "data": {
      "text/html": [
       "No documentation for ‘whereis’ in specified packages and libraries:\n",
       "you could try ‘??whereis’"
      ],
      "text/latex": [
       "No documentation for ‘whereis’ in specified packages and libraries:\n",
       "you could try ‘??whereis’"
      ],
      "text/plain": [
       "No documentation for ‘whereis’ in specified packages and libraries:\n",
       "you could try ‘??whereis’"
      ]
     },
     "metadata": {},
     "output_type": "display_data"
    }
   ],
   "source": [
    "?whereis"
   ]
  },
  {
   "cell_type": "code",
   "execution_count": 8,
   "metadata": {
    "collapsed": false
   },
   "outputs": [
    {
     "data": {
      "text/html": [
       "10"
      ],
      "text/latex": [
       "10"
      ],
      "text/markdown": [
       "10"
      ],
      "text/plain": [
       "[1] 10"
      ]
     },
     "metadata": {},
     "output_type": "display_data"
    }
   ],
   "source": [
    "x <- rep(1, 10)\n",
    "sum(x)\n"
   ]
  },
  {
   "cell_type": "code",
   "execution_count": 10,
   "metadata": {
    "collapsed": false
   },
   "outputs": [
    {
     "data": {
      "text/html": [
       "10"
      ],
      "text/latex": [
       "10"
      ],
      "text/markdown": [
       "10"
      ],
      "text/plain": [
       "[1] 10"
      ]
     },
     "metadata": {},
     "output_type": "display_data"
    }
   ],
   "source": [
    "summ <- 0\n",
    "for(i in x){\n",
    "    summ <- summ + i\n",
    "}\n",
    "summ"
   ]
  },
  {
   "cell_type": "code",
   "execution_count": 12,
   "metadata": {
    "collapsed": false
   },
   "outputs": [
    {
     "data": {
      "text/html": [
       "10"
      ],
      "text/latex": [
       "10"
      ],
      "text/markdown": [
       "10"
      ],
      "text/plain": [
       "[1] 10"
      ]
     },
     "metadata": {},
     "output_type": "display_data"
    }
   ],
   "source": [
    "i <- 1\n",
    "summ <- 0\n",
    "while(i <= length(x)){\n",
    "    summ <- summ + x[i]\n",
    "    i <- i + 1\n",
    "}\n",
    "summ"
   ]
  },
  {
   "cell_type": "code",
   "execution_count": 13,
   "metadata": {
    "collapsed": false
   },
   "outputs": [
    {
     "data": {
      "text/html": [
       "10"
      ],
      "text/latex": [
       "10"
      ],
      "text/markdown": [
       "10"
      ],
      "text/plain": [
       "[1] 10"
      ]
     },
     "metadata": {},
     "output_type": "display_data"
    }
   ],
   "source": [
    "my_sum <- function(x){\n",
    "    summ <- 0\n",
    "    for(i in x){\n",
    "        summ <- summ + i\n",
    "    }\n",
    "    return(summ)\n",
    "}\n",
    "my_sum(x)"
   ]
  },
  {
   "cell_type": "code",
   "execution_count": 14,
   "metadata": {
    "collapsed": false
   },
   "outputs": [
    {
     "data": {
      "text/html": [
       "10"
      ],
      "text/latex": [
       "10"
      ],
      "text/markdown": [
       "10"
      ],
      "text/plain": [
       "[1] 10"
      ]
     },
     "metadata": {},
     "output_type": "display_data"
    },
    {
     "data": {
      "text/html": [
       "10"
      ],
      "text/latex": [
       "10"
      ],
      "text/markdown": [
       "10"
      ],
      "text/plain": [
       "[1] 10"
      ]
     },
     "metadata": {},
     "output_type": "display_data"
    }
   ],
   "source": [
    "sum(x)\n",
    "my_sum(x)"
   ]
  },
  {
   "cell_type": "code",
   "execution_count": 21,
   "metadata": {
    "collapsed": false
   },
   "outputs": [
    {
     "data": {
      "text/plain": [
       "   user  system elapsed \n",
       "  0.004   0.000   0.005 "
      ]
     },
     "metadata": {},
     "output_type": "display_data"
    },
    {
     "data": {
      "text/plain": [
       "   user  system elapsed \n",
       "  0.536   0.000   0.536 "
      ]
     },
     "metadata": {},
     "output_type": "display_data"
    }
   ],
   "source": [
    "x <- rep(1, 1e6)\n",
    "system.time(sum(x))\n",
    "system.time(my_sum(x))"
   ]
  },
  {
   "cell_type": "code",
   "execution_count": 23,
   "metadata": {
    "collapsed": false
   },
   "outputs": [
    {
     "data": {
      "text/html": [
       "'double'"
      ],
      "text/latex": [
       "'double'"
      ],
      "text/markdown": [
       "'double'"
      ],
      "text/plain": [
       "[1] \"double\""
      ]
     },
     "metadata": {},
     "output_type": "display_data"
    }
   ],
   "source": [
    "typeof(1.0)"
   ]
  },
  {
   "cell_type": "code",
   "execution_count": 24,
   "metadata": {
    "collapsed": false
   },
   "outputs": [
    {
     "data": {
      "text/html": [
       "'character'"
      ],
      "text/latex": [
       "'character'"
      ],
      "text/markdown": [
       "'character'"
      ],
      "text/plain": [
       "[1] \"character\""
      ]
     },
     "metadata": {},
     "output_type": "display_data"
    }
   ],
   "source": [
    "typeof(\"string\")"
   ]
  },
  {
   "cell_type": "code",
   "execution_count": 25,
   "metadata": {
    "collapsed": false
   },
   "outputs": [
    {
     "data": {
      "text/html": [
       "'logical'"
      ],
      "text/latex": [
       "'logical'"
      ],
      "text/markdown": [
       "'logical'"
      ],
      "text/plain": [
       "[1] \"logical\""
      ]
     },
     "metadata": {},
     "output_type": "display_data"
    }
   ],
   "source": [
    "typeof(T)"
   ]
  },
  {
   "cell_type": "code",
   "execution_count": 26,
   "metadata": {
    "collapsed": false
   },
   "outputs": [
    {
     "ename": "ERROR",
     "evalue": "Error in summ + i: non-numeric argument to binary operator\n",
     "output_type": "error",
     "traceback": [
      "Error in summ + i: non-numeric argument to binary operator\nTraceback:\n",
      "1. my_sum(\"hello\")"
     ]
    }
   ],
   "source": [
    "my_sum(\"hello\")"
   ]
  },
  {
   "cell_type": "code",
   "execution_count": 27,
   "metadata": {
    "collapsed": false
   },
   "outputs": [
    {
     "data": {
      "text/html": [
       "2"
      ],
      "text/latex": [
       "2"
      ],
      "text/markdown": [
       "2"
      ],
      "text/plain": [
       "[1] 2"
      ]
     },
     "metadata": {},
     "output_type": "display_data"
    }
   ],
   "source": [
    "my_sum(c(T, T))"
   ]
  },
  {
   "cell_type": "code",
   "execution_count": 33,
   "metadata": {
    "collapsed": true
   },
   "outputs": [],
   "source": [
    "sample <- function(n, F_inv=function(x) x){\n",
    "    sam <- runif(n)\n",
    "    return(F_inv(sam))\n",
    "}\n"
   ]
  },
  {
   "cell_type": "code",
   "execution_count": 46,
   "metadata": {
    "collapsed": false
   },
   "outputs": [
    {
     "data": {
      "text/html": [
       "<ol class=list-inline>\n",
       "\t<li>0.205077456776053</li>\n",
       "\t<li>0.741244870936498</li>\n",
       "\t<li>0.8971885854844</li>\n",
       "\t<li>0.135315199149773</li>\n",
       "\t<li>0.982214168878272</li>\n",
       "\t<li>0.587016886565834</li>\n",
       "\t<li>0.871467819437385</li>\n",
       "\t<li>0.0534141659736633</li>\n",
       "\t<li>0.638725052820519</li>\n",
       "\t<li>0.00754726934246719</li>\n",
       "</ol>\n"
      ],
      "text/latex": [
       "\\begin{enumerate*}\n",
       "\\item 0.205077456776053\n",
       "\\item 0.741244870936498\n",
       "\\item 0.8971885854844\n",
       "\\item 0.135315199149773\n",
       "\\item 0.982214168878272\n",
       "\\item 0.587016886565834\n",
       "\\item 0.871467819437385\n",
       "\\item 0.0534141659736633\n",
       "\\item 0.638725052820519\n",
       "\\item 0.00754726934246719\n",
       "\\end{enumerate*}\n"
      ],
      "text/markdown": [
       "1. 0.205077456776053\n",
       "2. 0.741244870936498\n",
       "3. 0.8971885854844\n",
       "4. 0.135315199149773\n",
       "5. 0.982214168878272\n",
       "6. 0.587016886565834\n",
       "7. 0.871467819437385\n",
       "8. 0.0534141659736633\n",
       "9. 0.638725052820519\n",
       "10. 0.00754726934246719\n",
       "\n",
       "\n"
      ],
      "text/plain": [
       " [1] 0.205077457 0.741244871 0.897188585 0.135315199 0.982214169 0.587016887\n",
       " [7] 0.871467819 0.053414166 0.638725053 0.007547269"
      ]
     },
     "metadata": {},
     "output_type": "display_data"
    },
    {
     "data": {
      "text/html": [
       "1.5"
      ],
      "text/latex": [
       "1.5"
      ],
      "text/markdown": [
       "1.5"
      ],
      "text/plain": [
       "[1] 1.5"
      ]
     },
     "metadata": {},
     "output_type": "display_data"
    }
   ],
   "source": [
    "sample(10)\n",
    "F_inv_unif <- function(x, a, b){\n",
    "    return(x*(b - a) + a)\n",
    "}\n",
    "F_inv_unif(0.5, 1., 2.)\n",
    "#sample(5, F_inv=function(x) F_inv_unif(x, 0, 10))\n",
    "X <- sample(10, F_inv=function(x) F_inv_unif(x, 1.0, 2.0))"
   ]
  },
  {
   "cell_type": "code",
   "execution_count": 48,
   "metadata": {
    "collapsed": false
   },
   "outputs": [
    {
     "data": {
      "text/html": [
       "<ol class=list-inline>\n",
       "\t<li>0.650254335254431</li>\n",
       "\t<li>0.796817888971418</li>\n",
       "\t<li>0.444055445725098</li>\n",
       "\t<li>0.818793486105278</li>\n",
       "\t<li>0.83193783974275</li>\n",
       "</ol>\n"
      ],
      "text/latex": [
       "\\begin{enumerate*}\n",
       "\\item 0.650254335254431\n",
       "\\item 0.796817888971418\n",
       "\\item 0.444055445725098\n",
       "\\item 0.818793486105278\n",
       "\\item 0.83193783974275\n",
       "\\end{enumerate*}\n"
      ],
      "text/markdown": [
       "1. 0.650254335254431\n",
       "2. 0.796817888971418\n",
       "3. 0.444055445725098\n",
       "4. 0.818793486105278\n",
       "5. 0.83193783974275\n",
       "\n",
       "\n"
      ],
      "text/plain": [
       "[1] 0.6502543 0.7968179 0.4440554 0.8187935 0.8319378"
      ]
     },
     "metadata": {},
     "output_type": "display_data"
    }
   ],
   "source": [
    "sample(5)"
   ]
  },
  {
   "cell_type": "code",
   "execution_count": 50,
   "metadata": {
    "collapsed": false
   },
   "outputs": [
    {
     "data": {
      "text/html": [
       "<ol class=list-inline>\n",
       "\t<li>0.21292918920517</li>\n",
       "\t<li>0.349558073095977</li>\n",
       "\t<li>0.00663003046065569</li>\n",
       "\t<li>0.828883125679567</li>\n",
       "\t<li>0.422300057020038</li>\n",
       "</ol>\n"
      ],
      "text/latex": [
       "\\begin{enumerate*}\n",
       "\\item 0.21292918920517\n",
       "\\item 0.349558073095977\n",
       "\\item 0.00663003046065569\n",
       "\\item 0.828883125679567\n",
       "\\item 0.422300057020038\n",
       "\\end{enumerate*}\n"
      ],
      "text/markdown": [
       "1. 0.21292918920517\n",
       "2. 0.349558073095977\n",
       "3. 0.00663003046065569\n",
       "4. 0.828883125679567\n",
       "5. 0.422300057020038\n",
       "\n",
       "\n"
      ],
      "text/plain": [
       "[1] 0.21292919 0.34955807 0.00663003 0.82888313 0.42230006"
      ]
     },
     "metadata": {},
     "output_type": "display_data"
    }
   ],
   "source": [
    "sample(n=5)"
   ]
  },
  {
   "cell_type": "code",
   "execution_count": 55,
   "metadata": {
    "collapsed": false
   },
   "outputs": [
    {
     "ename": "ERROR",
     "evalue": "Error in runif(n): argument \"n\" is missing, with no default\n",
     "output_type": "error",
     "traceback": [
      "Error in runif(n): argument \"n\" is missing, with no default\nTraceback:\n",
      "1. sample(F_inv = function(x) F_inv_unif(x, 1, 2))",
      "2. runif(n)   # at line 2 of file <text>"
     ]
    }
   ],
   "source": [
    "sample(F_inv=function(x) F_inv_unif(x, 1.0, 2.0))"
   ]
  },
  {
   "cell_type": "code",
   "execution_count": 63,
   "metadata": {
    "collapsed": false
   },
   "outputs": [
    {
     "name": "stdout",
     "output_type": "stream",
     "text": [
      "[1] \"a variable\"\n",
      "[1] \"Im global\"\n",
      "[1] \"modified\"\n",
      "[1] \"Im global\"\n"
     ]
    }
   ],
   "source": [
    "test <- function(x){\n",
    "    print(x)\n",
    "    print(glob1)\n",
    "    glob1 <- \"modified\"\n",
    "    loc <- \"Im local\"\n",
    "    print(glob1)\n",
    "}\n",
    "\n",
    "glob1 <- \"Im global\"\n",
    "test(\"a variable\")\n",
    "print(glob1)"
   ]
  },
  {
   "cell_type": "code",
   "execution_count": 68,
   "metadata": {
    "collapsed": true
   },
   "outputs": [],
   "source": [
    "sample <- function(n, F_inv=function(x) x){\n",
    "    sam <- runif(n)\n",
    "    return(F_inv(sam))\n",
    "}\n",
    "\n",
    "mc_mean <- function(n, F_inv=function(x) x){\n",
    "    x <- sample(n, F_inv)\n",
    "    return(sum(x)/n)\n",
    "}"
   ]
  },
  {
   "cell_type": "code",
   "execution_count": 70,
   "metadata": {
    "collapsed": false
   },
   "outputs": [
    {
     "data": {
      "text/html": [
       "0.298449172498658"
      ],
      "text/latex": [
       "0.298449172498658"
      ],
      "text/markdown": [
       "0.298449172498658"
      ],
      "text/plain": [
       "[1] 0.2984492"
      ]
     },
     "metadata": {},
     "output_type": "display_data"
    },
    {
     "data": {
      "text/html": [
       "0.333758268342353"
      ],
      "text/latex": [
       "0.333758268342353"
      ],
      "text/markdown": [
       "0.333758268342353"
      ],
      "text/plain": [
       "[1] 0.3337583"
      ]
     },
     "metadata": {},
     "output_type": "display_data"
    },
    {
     "data": {
      "text/html": [
       "0.484708816010971"
      ],
      "text/latex": [
       "0.484708816010971"
      ],
      "text/markdown": [
       "0.484708816010971"
      ],
      "text/plain": [
       "[1] 0.4847088"
      ]
     },
     "metadata": {},
     "output_type": "display_data"
    }
   ],
   "source": [
    "mc_mean(5)\n",
    "mc_mean(10)\n",
    "mc_mean(100)\n"
   ]
  },
  {
   "cell_type": "code",
   "execution_count": 71,
   "metadata": {
    "collapsed": false
   },
   "outputs": [
    {
     "data": {
      "text/html": [
       "<ol class=list-inline>\n",
       "\t<li>0.763613430317491</li>\n",
       "\t<li>0.508496636664495</li>\n",
       "\t<li>0.481381168598309</li>\n",
       "</ol>\n"
      ],
      "text/latex": [
       "\\begin{enumerate*}\n",
       "\\item 0.763613430317491\n",
       "\\item 0.508496636664495\n",
       "\\item 0.481381168598309\n",
       "\\end{enumerate*}\n"
      ],
      "text/markdown": [
       "1. 0.763613430317491\n",
       "2. 0.508496636664495\n",
       "3. 0.481381168598309\n",
       "\n",
       "\n"
      ],
      "text/plain": [
       "[1] 0.7636134 0.5084966 0.4813812"
      ]
     },
     "metadata": {},
     "output_type": "display_data"
    }
   ],
   "source": [
    "sims <- function(n_vec, F_inv=function(x) x){\n",
    "    MCs <- rep(0, length(n_vec))\n",
    "    i <- 1\n",
    "    for(n in n_vec){\n",
    "        MCs[i] <- mc_mean(n, F_inv)\n",
    "        i <- i + 1\n",
    "    }\n",
    "    return(MCs)\n",
    "}\n",
    "sims(c(1, 10, 100))"
   ]
  },
  {
   "cell_type": "code",
   "execution_count": 73,
   "metadata": {
    "collapsed": false
   },
   "outputs": [
    {
     "data": {
      "image/png": "[encoded data removed]",
      "image/svg+xml": [
       "<?xml version=\"1.0\" encoding=\"UTF-8\"?>\n",
       "<svg xmlns=\"http://www.w3.org/2000/svg\" xmlns:xlink=\"http://www.w3.org/1999/xlink\" width=\"504pt\" height=\"504pt\" viewBox=\"0 0 504 504\" version=\"1.1\">\n",
       "<defs>\n",
       "<g>\n",
       "<symbol overflow=\"visible\" id=\"glyph0-0\">\n",
       "<path style=\"stroke:none;\" d=\"\"/>\n",
       "</symbol>\n",
       "<symbol overflow=\"visible\" id=\"glyph0-1\">\n",
       "<path style=\"stroke:none;\" d=\"M 6.078125 -4.09375 C 6.078125 -7.046875 5.140625 -8.515625 3.296875 -8.515625 C 1.46875 -8.515625 0.515625 -7.015625 0.515625 -4.15625 C 0.515625 -1.296875 1.46875 0.1875 3.296875 0.1875 C 5.09375 0.1875 6.078125 -1.296875 6.078125 -4.09375 Z M 5 -4.1875 C 5 -1.78125 4.453125 -0.703125 3.28125 -0.703125 C 2.15625 -0.703125 1.59375 -1.828125 1.59375 -4.15625 C 1.59375 -6.484375 2.15625 -7.578125 3.296875 -7.578125 C 4.4375 -7.578125 5 -6.46875 5 -4.1875 Z \"/>\n",
       "</symbol>\n",
       "<symbol overflow=\"visible\" id=\"glyph0-2\">\n",
       "<path style=\"stroke:none;\" d=\"M 6.125 -6.015625 C 6.125 -7.453125 5.015625 -8.515625 3.40625 -8.515625 C 1.671875 -8.515625 0.65625 -7.625 0.59375 -5.5625 L 1.65625 -5.5625 C 1.734375 -6.984375 2.328125 -7.578125 3.375 -7.578125 C 4.328125 -7.578125 5.046875 -6.90625 5.046875 -5.984375 C 5.046875 -5.3125 4.65625 -4.734375 3.90625 -4.3125 L 2.796875 -3.6875 C 1.015625 -2.671875 0.5 -1.875 0.40625 0 L 6.078125 0 L 6.078125 -1.046875 L 1.59375 -1.046875 C 1.703125 -1.734375 2.09375 -2.1875 3.125 -2.796875 L 4.328125 -3.4375 C 5.515625 -4.078125 6.125 -4.96875 6.125 -6.015625 Z \"/>\n",
       "</symbol>\n",
       "<symbol overflow=\"visible\" id=\"glyph0-3\">\n",
       "<path style=\"stroke:none;\" d=\"M 6.234375 -2.046875 L 6.234375 -2.984375 L 4.984375 -2.984375 L 4.984375 -8.515625 L 4.203125 -8.515625 L 0.34375 -3.15625 L 0.34375 -2.046875 L 3.921875 -2.046875 L 3.921875 0 L 4.984375 0 L 4.984375 -2.046875 Z M 3.921875 -2.984375 L 1.265625 -2.984375 L 3.921875 -6.703125 Z \"/>\n",
       "</symbol>\n",
       "<symbol overflow=\"visible\" id=\"glyph0-4\">\n",
       "<path style=\"stroke:none;\" d=\"M 6.15625 -2.640625 C 6.15625 -4.21875 5.078125 -5.296875 3.546875 -5.296875 C 2.71875 -5.296875 2.046875 -4.96875 1.59375 -4.34375 C 1.609375 -6.421875 2.28125 -7.578125 3.484375 -7.578125 C 4.234375 -7.578125 4.75 -7.109375 4.921875 -6.28125 L 5.96875 -6.28125 C 5.765625 -7.6875 4.859375 -8.515625 3.5625 -8.515625 C 1.578125 -8.515625 0.515625 -6.84375 0.515625 -3.875 C 0.515625 -1.21875 1.421875 0.1875 3.375 0.1875 C 4.984375 0.1875 6.15625 -0.96875 6.15625 -2.640625 Z M 5.078125 -2.5625 C 5.078125 -1.484375 4.359375 -0.75 3.390625 -0.75 C 2.40625 -0.75 1.65625 -1.53125 1.65625 -2.609375 C 1.65625 -3.671875 2.375 -4.359375 3.421875 -4.359375 C 4.4375 -4.359375 5.078125 -3.703125 5.078125 -2.5625 Z \"/>\n",
       "</symbol>\n",
       "<symbol overflow=\"visible\" id=\"glyph0-5\">\n",
       "<path style=\"stroke:none;\" d=\"M 6.15625 -2.40625 C 6.15625 -3.34375 5.671875 -4.015625 4.6875 -4.46875 C 5.5625 -5 5.859375 -5.4375 5.859375 -6.234375 C 5.859375 -7.578125 4.8125 -8.515625 3.296875 -8.515625 C 1.796875 -8.515625 0.75 -7.578125 0.75 -6.234375 C 0.75 -5.453125 1.03125 -5.015625 1.890625 -4.46875 C 0.921875 -4.015625 0.4375 -3.34375 0.4375 -2.40625 C 0.4375 -0.859375 1.625 0.1875 3.296875 0.1875 C 4.984375 0.1875 6.15625 -0.859375 6.15625 -2.40625 Z M 4.78125 -6.21875 C 4.78125 -5.421875 4.1875 -4.890625 3.296875 -4.890625 C 2.40625 -4.890625 1.828125 -5.421875 1.828125 -6.234375 C 1.828125 -7.046875 2.40625 -7.578125 3.296875 -7.578125 C 4.203125 -7.578125 4.78125 -7.046875 4.78125 -6.21875 Z M 5.078125 -2.390625 C 5.078125 -1.375 4.359375 -0.75 3.28125 -0.75 C 2.25 -0.75 1.53125 -1.390625 1.53125 -2.390625 C 1.53125 -3.390625 2.25 -4.015625 3.296875 -4.015625 C 4.359375 -4.015625 5.078125 -3.390625 5.078125 -2.390625 Z \"/>\n",
       "</symbol>\n",
       "<symbol overflow=\"visible\" id=\"glyph0-6\">\n",
       "<path style=\"stroke:none;\" d=\"M 4.15625 0 L 4.15625 -8.515625 L 3.46875 -8.515625 C 3.09375 -7.203125 2.859375 -7.015625 1.21875 -6.8125 L 1.21875 -6.0625 L 3.109375 -6.0625 L 3.109375 0 Z \"/>\n",
       "</symbol>\n",
       "<symbol overflow=\"visible\" id=\"glyph0-7\">\n",
       "<path style=\"stroke:none;\" d=\"M 7.75 0 L 7.75 -8.75 L 6.703125 -8.75 L 6.703125 -1.59375 L 2.125 -8.75 L 0.90625 -8.75 L 0.90625 0 L 1.96875 0 L 1.96875 -7.09375 L 6.484375 0 Z \"/>\n",
       "</symbol>\n",
       "<symbol overflow=\"visible\" id=\"glyph1-0\">\n",
       "<path style=\"stroke:none;\" d=\"\"/>\n",
       "</symbol>\n",
       "<symbol overflow=\"visible\" id=\"glyph1-1\">\n",
       "<path style=\"stroke:none;\" d=\"M -4.09375 -6.078125 C -7.046875 -6.078125 -8.515625 -5.140625 -8.515625 -3.296875 C -8.515625 -1.46875 -7.015625 -0.515625 -4.15625 -0.515625 C -1.296875 -0.515625 0.1875 -1.46875 0.1875 -3.296875 C 0.1875 -5.09375 -1.296875 -6.078125 -4.09375 -6.078125 Z M -4.1875 -5 C -1.78125 -5 -0.703125 -4.453125 -0.703125 -3.28125 C -0.703125 -2.15625 -1.828125 -1.59375 -4.15625 -1.59375 C -6.484375 -1.59375 -7.578125 -2.15625 -7.578125 -3.296875 C -7.578125 -4.4375 -6.46875 -5 -4.1875 -5 Z \"/>\n",
       "</symbol>\n",
       "<symbol overflow=\"visible\" id=\"glyph1-2\">\n",
       "<path style=\"stroke:none;\" d=\"M 0 -2.296875 L -1.25 -2.296875 L -1.25 -1.046875 L 0 -1.046875 Z \"/>\n",
       "</symbol>\n",
       "<symbol overflow=\"visible\" id=\"glyph1-3\">\n",
       "<path style=\"stroke:none;\" d=\"M -2.046875 -6.234375 L -2.984375 -6.234375 L -2.984375 -4.984375 L -8.515625 -4.984375 L -8.515625 -4.203125 L -3.15625 -0.34375 L -2.046875 -0.34375 L -2.046875 -3.921875 L 0 -3.921875 L 0 -4.984375 L -2.046875 -4.984375 Z M -2.984375 -3.921875 L -2.984375 -1.265625 L -6.703125 -3.921875 Z \"/>\n",
       "</symbol>\n",
       "<symbol overflow=\"visible\" id=\"glyph1-4\">\n",
       "<path style=\"stroke:none;\" d=\"M -2.40625 -6.15625 C -3.34375 -6.15625 -4.015625 -5.671875 -4.46875 -4.6875 C -5 -5.5625 -5.4375 -5.859375 -6.234375 -5.859375 C -7.578125 -5.859375 -8.515625 -4.8125 -8.515625 -3.296875 C -8.515625 -1.796875 -7.578125 -0.75 -6.234375 -0.75 C -5.453125 -0.75 -5.015625 -1.03125 -4.46875 -1.890625 C -4.015625 -0.921875 -3.34375 -0.4375 -2.40625 -0.4375 C -0.859375 -0.4375 0.1875 -1.625 0.1875 -3.296875 C 0.1875 -4.984375 -0.859375 -6.15625 -2.40625 -6.15625 Z M -6.21875 -4.78125 C -5.421875 -4.78125 -4.890625 -4.1875 -4.890625 -3.296875 C -4.890625 -2.40625 -5.421875 -1.828125 -6.234375 -1.828125 C -7.046875 -1.828125 -7.578125 -2.40625 -7.578125 -3.296875 C -7.578125 -4.203125 -7.046875 -4.78125 -6.21875 -4.78125 Z M -2.390625 -5.078125 C -1.375 -5.078125 -0.75 -4.359375 -0.75 -3.28125 C -0.75 -2.25 -1.390625 -1.53125 -2.390625 -1.53125 C -3.390625 -1.53125 -4.015625 -2.25 -4.015625 -3.296875 C -4.015625 -4.359375 -3.390625 -5.078125 -2.390625 -5.078125 Z \"/>\n",
       "</symbol>\n",
       "<symbol overflow=\"visible\" id=\"glyph1-5\">\n",
       "<path style=\"stroke:none;\" d=\"M -4.453125 -6.109375 C -7.109375 -6.109375 -8.515625 -5.1875 -8.515625 -3.234375 C -8.515625 -1.625 -7.359375 -0.453125 -5.6875 -0.453125 C -4.109375 -0.453125 -3.03125 -1.53125 -3.03125 -3.078125 C -3.03125 -3.875 -3.328125 -4.46875 -3.984375 -5.015625 C -1.90625 -5 -0.75 -4.328125 -0.75 -3.125 C -0.75 -2.375 -1.21875 -1.859375 -2.046875 -1.6875 L -2.046875 -0.640625 C -0.640625 -0.84375 0.1875 -1.75 0.1875 -3.046875 C 0.1875 -5.046875 -1.515625 -6.109375 -4.453125 -6.109375 Z M -5.71875 -4.953125 C -4.671875 -4.953125 -3.96875 -4.21875 -3.96875 -3.1875 C -3.96875 -2.171875 -4.625 -1.53125 -5.765625 -1.53125 C -6.859375 -1.53125 -7.578125 -2.25 -7.578125 -3.234375 C -7.578125 -4.21875 -6.8125 -4.953125 -5.71875 -4.953125 Z \"/>\n",
       "</symbol>\n",
       "<symbol overflow=\"visible\" id=\"glyph1-6\">\n",
       "<path style=\"stroke:none;\" d=\"M -2.8125 -6.15625 C -4.5 -6.15625 -5.609375 -5.046875 -5.609375 -3.40625 C -5.609375 -2.8125 -5.453125 -2.328125 -5.09375 -1.84375 L -7.28125 -2.171875 L -7.28125 -5.71875 L -8.328125 -5.71875 L -8.328125 -1.3125 L -3.875 -0.6875 L -3.875 -1.65625 C -4.46875 -2.140625 -4.671875 -2.5625 -4.671875 -3.21875 C -4.671875 -4.359375 -3.9375 -5.078125 -2.671875 -5.078125 C -1.453125 -5.078125 -0.75 -4.375 -0.75 -3.21875 C -0.75 -2.296875 -1.21875 -1.734375 -2.1875 -1.46875 L -2.1875 -0.421875 C -0.484375 -0.765625 0.1875 -1.734375 0.1875 -3.234375 C 0.1875 -4.953125 -1.015625 -6.15625 -2.8125 -6.15625 Z \"/>\n",
       "</symbol>\n",
       "<symbol overflow=\"visible\" id=\"glyph1-7\">\n",
       "<path style=\"stroke:none;\" d=\"M 0 -4.15625 L -8.515625 -4.15625 L -8.515625 -3.46875 C -7.203125 -3.09375 -7.015625 -2.859375 -6.8125 -1.21875 L -6.0625 -1.21875 L -6.0625 -3.109375 L 0 -3.109375 Z \"/>\n",
       "</symbol>\n",
       "<symbol overflow=\"visible\" id=\"glyph1-8\">\n",
       "<path style=\"stroke:none;\" d=\"M -6.015625 -6.125 C -7.453125 -6.125 -8.515625 -5.015625 -8.515625 -3.40625 C -8.515625 -1.671875 -7.625 -0.65625 -5.5625 -0.59375 L -5.5625 -1.65625 C -6.984375 -1.734375 -7.578125 -2.328125 -7.578125 -3.375 C -7.578125 -4.328125 -6.90625 -5.046875 -5.984375 -5.046875 C -5.3125 -5.046875 -4.734375 -4.65625 -4.3125 -3.90625 L -3.6875 -2.796875 C -2.671875 -1.015625 -1.875 -0.5 0 -0.40625 L 0 -6.078125 L -1.046875 -6.078125 L -1.046875 -1.59375 C -1.734375 -1.703125 -2.1875 -2.09375 -2.796875 -3.125 L -3.4375 -4.328125 C -4.078125 -5.515625 -4.96875 -6.125 -6.015625 -6.125 Z \"/>\n",
       "</symbol>\n",
       "<symbol overflow=\"visible\" id=\"glyph1-9\">\n",
       "<path style=\"stroke:none;\" d=\"M 0 -9.125 L -8.75 -9.125 L -8.75 -7.578125 L -1.125 -5.046875 L -8.75 -2.453125 L -8.75 -0.90625 L 0 -0.90625 L 0 -1.953125 L -7.328125 -1.953125 L 0 -4.4375 L 0 -5.609375 L -7.328125 -8.078125 L 0 -8.078125 Z \"/>\n",
       "</symbol>\n",
       "<symbol overflow=\"visible\" id=\"glyph1-10\">\n",
       "<path style=\"stroke:none;\" d=\"M -3.1875 -8.125 L -3.1875 -6.96875 C -1.53125 -6.703125 -0.765625 -6.015625 -0.765625 -4.53125 C -0.765625 -2.796875 -2.09375 -1.6875 -4.28125 -1.6875 C -6.53125 -1.6875 -7.984375 -2.75 -7.984375 -4.4375 C -7.984375 -5.8125 -7.375 -6.53125 -6.03125 -6.796875 L -6.03125 -7.9375 C -7.953125 -7.59375 -8.96875 -6.484375 -8.96875 -4.578125 C -8.96875 -1.921875 -6.828125 -0.578125 -4.265625 -0.578125 C -1.71875 -0.578125 0.21875 -1.953125 0.21875 -4.53125 C 0.21875 -6.65625 -0.90625 -7.859375 -3.1875 -8.125 Z \"/>\n",
       "</symbol>\n",
       "<symbol overflow=\"visible\" id=\"glyph1-11\">\n",
       "<path style=\"stroke:none;\" d=\"M -1.765625 -5.515625 C -2.703125 -5.515625 -3.171875 -4.984375 -3.46875 -3.734375 L -3.703125 -2.765625 C -3.890625 -1.953125 -4.15625 -1.609375 -4.59375 -1.609375 C -5.171875 -1.609375 -5.546875 -2.125 -5.546875 -2.9375 C -5.546875 -3.75 -5.203125 -4.171875 -4.53125 -4.203125 L -4.53125 -5.25 C -5.765625 -5.25 -6.46875 -4.421875 -6.46875 -2.96875 C -6.46875 -1.515625 -5.71875 -0.5625 -4.546875 -0.5625 C -3.5625 -0.5625 -3.09375 -1.0625 -2.734375 -2.5625 L -2.515625 -3.484375 C -2.34375 -4.1875 -2.140625 -4.46875 -1.6875 -4.46875 C -1.09375 -4.46875 -0.75 -3.875 -0.75 -3 C -0.75 -2.09375 -0.953125 -1.59375 -1.921875 -1.46875 L -1.921875 -0.40625 C -0.46875 -0.453125 0.1875 -1.265625 0.1875 -2.921875 C 0.1875 -4.5 -0.546875 -5.515625 -1.765625 -5.515625 Z \"/>\n",
       "</symbol>\n",
       "</g>\n",
       "</defs>\n",
       "<g id=\"surface52\">\n",
       "<rect x=\"0\" y=\"0\" width=\"504\" height=\"504\" style=\"fill:rgb(100%,100%,100%);fill-opacity:1;stroke:none;\"/>\n",
       "<path style=\"fill:none;stroke-width:0.75;stroke-linecap:round;stroke-linejoin:round;stroke:rgb(0%,0%,0%);stroke-opacity:1;stroke-miterlimit:10;\" d=\"M 78.238281 367.890625 L 82.078125 416.800781 L 85.921875 117.339844 L 89.761719 243.386719 L 93.601562 97.441406 L 97.441406 281.417969 L 101.28125 233.25 L 105.121094 237.757812 L 108.960938 137.320312 L 112.800781 72.800781 L 116.640625 188.328125 L 120.480469 165.382812 L 124.320312 298.863281 L 128.160156 110.617188 L 132 154.820312 L 135.839844 183.910156 L 139.679688 249.34375 L 143.519531 177.972656 L 147.359375 190.710938 L 151.199219 206.761719 L 155.039062 274.90625 L 158.878906 257.457031 L 162.71875 203.929688 L 166.558594 225.273438 L 170.398438 180.296875 L 174.238281 199.078125 L 178.078125 193.523438 L 181.921875 289.214844 L 185.761719 201.472656 L 189.601562 226.5 L 193.441406 240.042969 L 197.28125 168.980469 L 201.121094 236.007812 L 204.960938 205.335938 L 208.800781 247.148438 L 212.640625 209.109375 L 216.480469 223.703125 L 220.320312 205.722656 L 224.160156 235.050781 L 228 189.539062 L 231.839844 244.746094 L 235.679688 269.554688 L 239.519531 242.953125 L 243.359375 223.339844 L 247.199219 218.4375 L 251.039062 161.5625 L 254.878906 179.398438 L 258.71875 167.015625 L 262.558594 200.148438 L 266.398438 184.296875 L 270.238281 230.613281 L 274.078125 273.757812 L 277.921875 164.191406 L 281.761719 230.515625 L 285.601562 239.652344 L 289.441406 215.257812 L 293.28125 170.210938 L 297.121094 198.335938 L 300.960938 179.679688 L 304.800781 203.347656 L 308.640625 233.035156 L 312.480469 247.0625 L 316.320312 219.148438 L 320.160156 239.847656 L 324 203.667969 L 327.839844 187.042969 L 331.679688 222.609375 L 335.519531 235.738281 L 339.359375 205.921875 L 343.199219 204.3125 L 347.039062 193.757812 L 350.878906 187.335938 L 354.71875 187.246094 L 358.558594 255.3125 L 362.398438 208.09375 L 366.238281 229.03125 L 370.078125 239.738281 L 373.921875 177.789062 L 377.761719 182.160156 L 381.601562 225.597656 L 385.441406 192.734375 L 389.28125 216.5625 L 393.121094 234.011719 L 396.960938 211.503906 L 400.800781 240.175781 L 404.640625 212.640625 L 408.480469 205.277344 L 412.320312 227.914062 L 416.160156 205.777344 L 420 225.300781 L 423.839844 203.085938 L 427.679688 226.046875 L 431.519531 258.535156 L 435.359375 209.773438 L 439.199219 189.242188 L 443.039062 203.621094 L 446.878906 212.339844 L 450.71875 237.882812 L 454.558594 254.734375 L 458.398438 231.980469 \"/>\n",
       "<path style=\"fill:none;stroke-width:0.75;stroke-linecap:round;stroke-linejoin:round;stroke:rgb(0%,0%,0%);stroke-opacity:1;stroke-miterlimit:10;\" d=\"M 74.398438 430.558594 L 458.398438 430.558594 \"/>\n",
       "<path style=\"fill:none;stroke-width:0.75;stroke-linecap:round;stroke-linejoin:round;stroke:rgb(0%,0%,0%);stroke-opacity:1;stroke-miterlimit:10;\" d=\"M 74.398438 430.558594 L 74.398438 437.761719 \"/>\n",
       "<path style=\"fill:none;stroke-width:0.75;stroke-linecap:round;stroke-linejoin:round;stroke:rgb(0%,0%,0%);stroke-opacity:1;stroke-miterlimit:10;\" d=\"M 151.199219 430.558594 L 151.199219 437.761719 \"/>\n",
       "<path style=\"fill:none;stroke-width:0.75;stroke-linecap:round;stroke-linejoin:round;stroke:rgb(0%,0%,0%);stroke-opacity:1;stroke-miterlimit:10;\" d=\"M 228 430.558594 L 228 437.761719 \"/>\n",
       "<path style=\"fill:none;stroke-width:0.75;stroke-linecap:round;stroke-linejoin:round;stroke:rgb(0%,0%,0%);stroke-opacity:1;stroke-miterlimit:10;\" d=\"M 304.800781 430.558594 L 304.800781 437.761719 \"/>\n",
       "<path style=\"fill:none;stroke-width:0.75;stroke-linecap:round;stroke-linejoin:round;stroke:rgb(0%,0%,0%);stroke-opacity:1;stroke-miterlimit:10;\" d=\"M 381.601562 430.558594 L 381.601562 437.761719 \"/>\n",
       "<path style=\"fill:none;stroke-width:0.75;stroke-linecap:round;stroke-linejoin:round;stroke:rgb(0%,0%,0%);stroke-opacity:1;stroke-miterlimit:10;\" d=\"M 458.398438 430.558594 L 458.398438 437.761719 \"/>\n",
       "<g style=\"fill:rgb(0%,0%,0%);fill-opacity:1;\">\n",
       "  <use xlink:href=\"#glyph0-1\" x=\"70.898438\" y=\"456.256836\"/>\n",
       "</g>\n",
       "<g style=\"fill:rgb(0%,0%,0%);fill-opacity:1;\">\n",
       "  <use xlink:href=\"#glyph0-2\" x=\"137.699219\" y=\"456.256836\"/>\n",
       "  <use xlink:href=\"#glyph0-1\" x=\"144.371094\" y=\"456.256836\"/>\n",
       "  <use xlink:href=\"#glyph0-1\" x=\"151.042969\" y=\"456.256836\"/>\n",
       "  <use xlink:href=\"#glyph0-1\" x=\"157.714844\" y=\"456.256836\"/>\n",
       "</g>\n",
       "<g style=\"fill:rgb(0%,0%,0%);fill-opacity:1;\">\n",
       "  <use xlink:href=\"#glyph0-3\" x=\"214.5\" y=\"456.256836\"/>\n",
       "  <use xlink:href=\"#glyph0-1\" x=\"221.171875\" y=\"456.256836\"/>\n",
       "  <use xlink:href=\"#glyph0-1\" x=\"227.84375\" y=\"456.256836\"/>\n",
       "  <use xlink:href=\"#glyph0-1\" x=\"234.515625\" y=\"456.256836\"/>\n",
       "</g>\n",
       "<g style=\"fill:rgb(0%,0%,0%);fill-opacity:1;\">\n",
       "  <use xlink:href=\"#glyph0-4\" x=\"291.300781\" y=\"456.256836\"/>\n",
       "  <use xlink:href=\"#glyph0-1\" x=\"297.972656\" y=\"456.256836\"/>\n",
       "  <use xlink:href=\"#glyph0-1\" x=\"304.644531\" y=\"456.256836\"/>\n",
       "  <use xlink:href=\"#glyph0-1\" x=\"311.316406\" y=\"456.256836\"/>\n",
       "</g>\n",
       "<g style=\"fill:rgb(0%,0%,0%);fill-opacity:1;\">\n",
       "  <use xlink:href=\"#glyph0-5\" x=\"368.101562\" y=\"456.256836\"/>\n",
       "  <use xlink:href=\"#glyph0-1\" x=\"374.773438\" y=\"456.256836\"/>\n",
       "  <use xlink:href=\"#glyph0-1\" x=\"381.445312\" y=\"456.256836\"/>\n",
       "  <use xlink:href=\"#glyph0-1\" x=\"388.117188\" y=\"456.256836\"/>\n",
       "</g>\n",
       "<g style=\"fill:rgb(0%,0%,0%);fill-opacity:1;\">\n",
       "  <use xlink:href=\"#glyph0-6\" x=\"441.398438\" y=\"456.256836\"/>\n",
       "  <use xlink:href=\"#glyph0-1\" x=\"448.070312\" y=\"456.256836\"/>\n",
       "  <use xlink:href=\"#glyph0-1\" x=\"454.742188\" y=\"456.256836\"/>\n",
       "  <use xlink:href=\"#glyph0-1\" x=\"461.414062\" y=\"456.256836\"/>\n",
       "  <use xlink:href=\"#glyph0-1\" x=\"468.085938\" y=\"456.256836\"/>\n",
       "</g>\n",
       "<path style=\"fill:none;stroke-width:0.75;stroke-linecap:round;stroke-linejoin:round;stroke:rgb(0%,0%,0%);stroke-opacity:1;stroke-miterlimit:10;\" d=\"M 59.039062 365.644531 L 59.039062 70.550781 \"/>\n",
       "<path style=\"fill:none;stroke-width:0.75;stroke-linecap:round;stroke-linejoin:round;stroke:rgb(0%,0%,0%);stroke-opacity:1;stroke-miterlimit:10;\" d=\"M 59.039062 365.644531 L 51.839844 365.644531 \"/>\n",
       "<path style=\"fill:none;stroke-width:0.75;stroke-linecap:round;stroke-linejoin:round;stroke:rgb(0%,0%,0%);stroke-opacity:1;stroke-miterlimit:10;\" d=\"M 59.039062 291.871094 L 51.839844 291.871094 \"/>\n",
       "<path style=\"fill:none;stroke-width:0.75;stroke-linecap:round;stroke-linejoin:round;stroke:rgb(0%,0%,0%);stroke-opacity:1;stroke-miterlimit:10;\" d=\"M 59.039062 218.097656 L 51.839844 218.097656 \"/>\n",
       "<path style=\"fill:none;stroke-width:0.75;stroke-linecap:round;stroke-linejoin:round;stroke:rgb(0%,0%,0%);stroke-opacity:1;stroke-miterlimit:10;\" d=\"M 59.039062 144.324219 L 51.839844 144.324219 \"/>\n",
       "<path style=\"fill:none;stroke-width:0.75;stroke-linecap:round;stroke-linejoin:round;stroke:rgb(0%,0%,0%);stroke-opacity:1;stroke-miterlimit:10;\" d=\"M 59.039062 70.550781 L 51.839844 70.550781 \"/>\n",
       "<g style=\"fill:rgb(0%,0%,0%);fill-opacity:1;\">\n",
       "  <use xlink:href=\"#glyph1-1\" x=\"41.538086\" y=\"377.644531\"/>\n",
       "  <use xlink:href=\"#glyph1-2\" x=\"41.538086\" y=\"370.972656\"/>\n",
       "  <use xlink:href=\"#glyph1-3\" x=\"41.538086\" y=\"367.636719\"/>\n",
       "  <use xlink:href=\"#glyph1-4\" x=\"41.538086\" y=\"360.964844\"/>\n",
       "</g>\n",
       "<g style=\"fill:rgb(0%,0%,0%);fill-opacity:1;\">\n",
       "  <use xlink:href=\"#glyph1-1\" x=\"41.538086\" y=\"303.871094\"/>\n",
       "  <use xlink:href=\"#glyph1-2\" x=\"41.538086\" y=\"297.199219\"/>\n",
       "  <use xlink:href=\"#glyph1-3\" x=\"41.538086\" y=\"293.863281\"/>\n",
       "  <use xlink:href=\"#glyph1-5\" x=\"41.538086\" y=\"287.191406\"/>\n",
       "</g>\n",
       "<g style=\"fill:rgb(0%,0%,0%);fill-opacity:1;\">\n",
       "  <use xlink:href=\"#glyph1-1\" x=\"41.538086\" y=\"230.097656\"/>\n",
       "  <use xlink:href=\"#glyph1-2\" x=\"41.538086\" y=\"223.425781\"/>\n",
       "  <use xlink:href=\"#glyph1-6\" x=\"41.538086\" y=\"220.089844\"/>\n",
       "  <use xlink:href=\"#glyph1-1\" x=\"41.538086\" y=\"213.417969\"/>\n",
       "</g>\n",
       "<g style=\"fill:rgb(0%,0%,0%);fill-opacity:1;\">\n",
       "  <use xlink:href=\"#glyph1-1\" x=\"41.538086\" y=\"156.324219\"/>\n",
       "  <use xlink:href=\"#glyph1-2\" x=\"41.538086\" y=\"149.652344\"/>\n",
       "  <use xlink:href=\"#glyph1-6\" x=\"41.538086\" y=\"146.316406\"/>\n",
       "  <use xlink:href=\"#glyph1-7\" x=\"41.538086\" y=\"139.644531\"/>\n",
       "</g>\n",
       "<g style=\"fill:rgb(0%,0%,0%);fill-opacity:1;\">\n",
       "  <use xlink:href=\"#glyph1-1\" x=\"41.538086\" y=\"82.550781\"/>\n",
       "  <use xlink:href=\"#glyph1-2\" x=\"41.538086\" y=\"75.878906\"/>\n",
       "  <use xlink:href=\"#glyph1-6\" x=\"41.538086\" y=\"72.542969\"/>\n",
       "  <use xlink:href=\"#glyph1-8\" x=\"41.538086\" y=\"65.871094\"/>\n",
       "</g>\n",
       "<path style=\"fill:none;stroke-width:0.75;stroke-linecap:round;stroke-linejoin:round;stroke:rgb(0%,0%,0%);stroke-opacity:1;stroke-miterlimit:10;\" d=\"M 59.039062 430.558594 L 473.761719 430.558594 L 473.761719 59.039062 L 59.039062 59.039062 L 59.039062 430.558594 \"/>\n",
       "<g style=\"fill:rgb(0%,0%,0%);fill-opacity:1;\">\n",
       "  <use xlink:href=\"#glyph0-7\" x=\"261.898438\" y=\"485.057617\"/>\n",
       "</g>\n",
       "<g style=\"fill:rgb(0%,0%,0%);fill-opacity:1;\">\n",
       "  <use xlink:href=\"#glyph1-9\" x=\"12.737305\" y=\"257.300781\"/>\n",
       "  <use xlink:href=\"#glyph1-10\" x=\"12.737305\" y=\"247.304688\"/>\n",
       "  <use xlink:href=\"#glyph1-11\" x=\"12.737305\" y=\"238.640625\"/>\n",
       "</g>\n",
       "</g>\n",
       "</svg>\n"
      ],
      "text/plain": [
       "plot without title"
      ]
     },
     "metadata": {
      "image/svg+xml": {
       "isolated": true
      }
     },
     "output_type": "display_data"
    }
   ],
   "source": [
    "N <- seq(0, 10000, 100)\n",
    "MCs <- sims(N)\n",
    "plot(N, MCs, \"l\")"
   ]
  },
  {
   "cell_type": "code",
   "execution_count": null,
   "metadata": {
    "collapsed": true
   },
   "outputs": [],
   "source": []
  }
 ],
 "metadata": {
  "kernelspec": {
   "display_name": "R",
   "language": "R",
   "name": "ir"
  },
  "language_info": {
   "codemirror_mode": "r",
   "file_extension": ".r",
   "mimetype": "text/x-r-source",
   "name": "R",
   "pygments_lexer": "r",
   "version": "3.3.1"
  }
 },
 "nbformat": 4,
 "nbformat_minor": 0
}
